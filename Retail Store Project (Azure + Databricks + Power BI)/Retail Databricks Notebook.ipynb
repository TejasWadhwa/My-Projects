{
 "cells": [
  {
   "cell_type": "code",
   "execution_count": 0,
   "metadata": {
    "application/vnd.databricks.v1+cell": {
     "cellMetadata": {
      "byteLimit": 2048000,
      "rowLimit": 10000
     },
     "inputWidgets": {},
     "nuid": "2ba63024-7662-4a61-8c15-42029567bd73",
     "showTitle": false,
     "tableResultSettingsMap": {},
     "title": ""
    }
   },
   "outputs": [
    {
     "output_type": "execute_result",
     "data": {
      "text/plain": [
       "True"
      ]
     },
     "execution_count": 1,
     "metadata": {},
     "output_type": "execute_result"
    }
   ],
   "source": [
    "dbutils.fs.mount(\n",
    "  source = \"wasbs://retail@tjnewstorage71.blob.core.windows.net\",\n",
    "  mount_point = \"/mnt/retail_project\",\n",
    "  extra_configs = {\"fs.azure.account.key.tjnewstorage71.blob.core.windows.net\":\"0jySIqf08hlhsGUQnWfgV5K5YJox6t3WjhkeKp385VRjNi7m4NlUvnm9PrMazTRQGlZ+SKP/zDj1+AStXgmPXQ==\"})"
   ]
  },
  {
   "cell_type": "code",
   "execution_count": 0,
   "metadata": {
    "application/vnd.databricks.v1+cell": {
     "cellMetadata": {
      "byteLimit": 2048000,
      "rowLimit": 10000
     },
     "inputWidgets": {},
     "nuid": "d16287cd-ce18-4025-ac79-0660f17fd03a",
     "showTitle": false,
     "tableResultSettingsMap": {},
     "title": ""
    }
   },
   "outputs": [
    {
     "output_type": "execute_result",
     "data": {
      "text/plain": [
       "[FileInfo(path='dbfs:/mnt/retail_project/bronze/', name='bronze/', size=0, modificationTime=0),\n",
       " FileInfo(path='dbfs:/mnt/retail_project/gold/', name='gold/', size=0, modificationTime=0),\n",
       " FileInfo(path='dbfs:/mnt/retail_project/silver/', name='silver/', size=0, modificationTime=0)]"
      ]
     },
     "execution_count": 2,
     "metadata": {},
     "output_type": "execute_result"
    }
   ],
   "source": [
    "dbutils.fs.ls('/mnt/retail_project/')"
   ]
  },
  {
   "cell_type": "code",
   "execution_count": 0,
   "metadata": {
    "application/vnd.databricks.v1+cell": {
     "cellMetadata": {
      "byteLimit": 2048000,
      "rowLimit": 10000
     },
     "inputWidgets": {},
     "nuid": "0181f924-c8ac-4b36-8fa0-2bf129e98333",
     "showTitle": false,
     "tableResultSettingsMap": {},
     "title": ""
    }
   },
   "outputs": [
    {
     "output_type": "display_data",
     "data": {
      "text/html": [
       "<style scoped>\n",
       "  .table-result-container {\n",
       "    max-height: 300px;\n",
       "    overflow: auto;\n",
       "  }\n",
       "  table, th, td {\n",
       "    border: 1px solid black;\n",
       "    border-collapse: collapse;\n",
       "  }\n",
       "  th, td {\n",
       "    padding: 5px;\n",
       "  }\n",
       "  th {\n",
       "    text-align: left;\n",
       "  }\n",
       "</style><div class='table-result-container'><table class='table-result'><thead style='background-color: white'><tr><th>product_id</th><th>product_name</th><th>category</th><th>price</th></tr></thead><tbody><tr><td>1</td><td>Wireless Mouse</td><td>Electronics</td><td>799.99</td></tr><tr><td>2</td><td>Bluetooth Speaker</td><td>Electronics</td><td>1299.49</td></tr><tr><td>3</td><td>Yoga Mat</td><td>Fitness</td><td>499.00</td></tr><tr><td>4</td><td>Laptop Stand</td><td>Accessories</td><td>999.99</td></tr><tr><td>5</td><td>Notebook Set</td><td>Stationery</td><td>149.00</td></tr><tr><td>6</td><td>Water Bottle</td><td>Fitness</td><td>299.00</td></tr><tr><td>7</td><td>Smartwatch</td><td>Electronics</td><td>4999.00</td></tr><tr><td>8</td><td>Desk Organizer</td><td>Accessories</td><td>399.00</td></tr><tr><td>9</td><td>Dumbbell Set</td><td>Fitness</td><td>1999.00</td></tr><tr><td>10</td><td>Pen Drive 32GB</td><td>Electronics</td><td>599.00</td></tr></tbody></table></div>"
      ]
     },
     "metadata": {
      "application/vnd.databricks.v1+output": {
       "addedWidgets": {},
       "aggData": [],
       "aggError": "",
       "aggOverflow": false,
       "aggSchema": [],
       "aggSeriesLimitReached": false,
       "aggType": "",
       "arguments": {},
       "columnCustomDisplayInfos": {},
       "data": [
        [
         1,
         "Wireless Mouse",
         "Electronics",
         "799.99"
        ],
        [
         2,
         "Bluetooth Speaker",
         "Electronics",
         "1299.49"
        ],
        [
         3,
         "Yoga Mat",
         "Fitness",
         "499.00"
        ],
        [
         4,
         "Laptop Stand",
         "Accessories",
         "999.99"
        ],
        [
         5,
         "Notebook Set",
         "Stationery",
         "149.00"
        ],
        [
         6,
         "Water Bottle",
         "Fitness",
         "299.00"
        ],
        [
         7,
         "Smartwatch",
         "Electronics",
         "4999.00"
        ],
        [
         8,
         "Desk Organizer",
         "Accessories",
         "399.00"
        ],
        [
         9,
         "Dumbbell Set",
         "Fitness",
         "1999.00"
        ],
        [
         10,
         "Pen Drive 32GB",
         "Electronics",
         "599.00"
        ]
       ],
       "datasetInfos": [],
       "dbfsResultPath": null,
       "isJsonSchema": true,
       "metadata": {},
       "overflow": false,
       "plotOptions": {
        "customPlotOptions": {},
        "displayType": "table",
        "pivotAggregation": null,
        "pivotColumns": null,
        "xColumns": null,
        "yColumns": null
       },
       "removedWidgets": [],
       "schema": [
        {
         "metadata": "{}",
         "name": "product_id",
         "type": "\"integer\""
        },
        {
         "metadata": "{}",
         "name": "product_name",
         "type": "\"string\""
        },
        {
         "metadata": "{}",
         "name": "category",
         "type": "\"string\""
        },
        {
         "metadata": "{}",
         "name": "price",
         "type": "\"decimal(10,2)\""
        }
       ],
       "type": "table"
      }
     },
     "output_type": "display_data"
    }
   ],
   "source": [
    "df_transaction = spark.read.parquet('/mnt/retail_project/bronze/transaction/')\n",
    "df_products = spark.read.parquet('/mnt/retail_project/bronze/product/')\n",
    "df_stores = spark.read.parquet('/mnt/retail_project/bronze/store/')\n",
    "df_customers = spark.read.parquet('/mnt/retail_project/bronze/customer/manish040596/azure-data-engineer---multi-source/refs/heads/main/')\n",
    "\n",
    "display(df_products)\n",
    "\n"
   ]
  },
  {
   "cell_type": "code",
   "execution_count": 0,
   "metadata": {
    "application/vnd.databricks.v1+cell": {
     "cellMetadata": {
      "byteLimit": 2048000,
      "rowLimit": 10000
     },
     "inputWidgets": {},
     "nuid": "963c7a1a-d70d-4f03-ba0b-eb3287cc2bbe",
     "showTitle": true,
     "tableResultSettingsMap": {},
     "title": "Silver Layer for Data Cleaning"
    }
   },
   "outputs": [],
   "source": [
    "# Converting Data Types\n",
    "\n",
    "from pyspark.sql.functions import col\n",
    "\n",
    "df_transaction = df_transaction.select(\n",
    "    col(\"transaction_id\").cast(\"int\"),\n",
    "    col(\"customer_id\").cast(\"int\"),\n",
    "    col(\"product_id\").cast(\"int\"),\n",
    "    col(\"store_id\").cast(\"int\"),\n",
    "    col(\"quantity\").cast(\"int\"),\n",
    "    col(\"transaction_date\").cast(\"date\")\n",
    ")\n",
    "\n",
    "df_products = df_products.select(\n",
    "    col(\"product_id\").cast(\"int\"),\n",
    "    col(\"product_name\"),\n",
    "    col(\"category\"),\n",
    "    col(\"price\").cast(\"double\")\n",
    ")\n",
    "\n",
    "df_stores = df_stores.select(\n",
    "    col(\"store_id\").cast(\"int\"),\n",
    "    col(\"store_name\"),\n",
    "    col(\"location\")\n",
    ")\n",
    "\n",
    "df_customers = df_customers[0].select(\n",
    "    \"customer_id\",\"first_name\",\"last_name\",\"email\",\"phone\",\"city\",\"registration_date\"\n",
    ").dropDuplicates([\"customer_id\"])"
   ]
  },
  {
   "cell_type": "code",
   "execution_count": 0,
   "metadata": {
    "application/vnd.databricks.v1+cell": {
     "cellMetadata": {
      "byteLimit": 2048000,
      "rowLimit": 10000
     },
     "inputWidgets": {},
     "nuid": "c8e22ce1-46e4-4045-80cd-00fea3bd135d",
     "showTitle": true,
     "tableResultSettingsMap": {},
     "title": "Joining all Data through IDs"
    }
   },
   "outputs": [],
   "source": [
    "df_silver = (\n",
    "    df_transaction\n",
    "    .join(df_customers, \"customer_id\")\n",
    "    .join(df_products, \"product_id\")\n",
    "    .join(df_stores, \"store_id\")\n",
    "    .withColumn(\"total_amount\", col(\"quantity\") * col(\"price\"))\n",
    ")"
   ]
  },
  {
   "cell_type": "code",
   "execution_count": 0,
   "metadata": {
    "application/vnd.databricks.v1+cell": {
     "cellMetadata": {
      "byteLimit": 2048000,
      "rowLimit": 10000
     },
     "inputWidgets": {},
     "nuid": "a0dc3a64-dcea-4352-8803-39fc9fefc820",
     "showTitle": false,
     "tableResultSettingsMap": {},
     "title": ""
    }
   },
   "outputs": [
    {
     "output_type": "display_data",
     "data": {
      "text/html": [
       "<style scoped>\n",
       "  .table-result-container {\n",
       "    max-height: 300px;\n",
       "    overflow: auto;\n",
       "  }\n",
       "  table, th, td {\n",
       "    border: 1px solid black;\n",
       "    border-collapse: collapse;\n",
       "  }\n",
       "  th, td {\n",
       "    padding: 5px;\n",
       "  }\n",
       "  th {\n",
       "    text-align: left;\n",
       "  }\n",
       "</style><div class='table-result-container'><table class='table-result'><thead style='background-color: white'><tr><th>store_id</th><th>product_id</th><th>customer_id</th><th>transaction_id</th><th>quantity</th><th>transaction_date</th><th>first_name</th><th>last_name</th><th>email</th><th>phone</th><th>city</th><th>registration_date</th><th>product_name</th><th>category</th><th>price</th><th>store_name</th><th>location</th><th>total_amount</th></tr></thead><tbody><tr><td>1</td><td>5</td><td>130</td><td>20</td><td>2</td><td>2024-07-30</td><td>Tanvi</td><td>Kapoor</td><td>user130@example.com</td><td>9598765432</td><td>Pune</td><td>2023-12-22</td><td>Notebook Set</td><td>Stationery</td><td>149.0</td><td>City Mall Store</td><td>Mumbai</td><td>298.0</td></tr><tr><td>2</td><td>6</td><td>126</td><td>26</td><td>2</td><td>2024-09-21</td><td>Bhavna</td><td>Nair</td><td>user126@example.com</td><td>9632109876</td><td>Mumbai</td><td>2023-07-17</td><td>Water Bottle</td><td>Fitness</td><td>299.0</td><td>High Street Store</td><td>Delhi</td><td>598.0</td></tr><tr><td>2</td><td>7</td><td>110</td><td>7</td><td>5</td><td>2025-01-01</td><td>Deepak</td><td>Nair</td><td>user110@example.com</td><td>9798765432</td><td>Mumbai</td><td>2023-10-14</td><td>Smartwatch</td><td>Electronics</td><td>4999.0</td><td>High Street Store</td><td>Delhi</td><td>24995.0</td></tr><tr><td>4</td><td>9</td><td>119</td><td>29</td><td>2</td><td>2025-06-03</td><td>Kunal</td><td>Nair</td><td>user119@example.com</td><td>9709876543</td><td>Bangalore</td><td>2023-08-10</td><td>Dumbbell Set</td><td>Fitness</td><td>1999.0</td><td>Downtown Mini Store</td><td>Pune</td><td>3998.0</td></tr><tr><td>4</td><td>8</td><td>116</td><td>30</td><td>5</td><td>2025-03-16</td><td>Rakesh</td><td>Kapoor</td><td>user116@example.com</td><td>9732109876</td><td>Kolkata</td><td>2023-06-15</td><td>Desk Organizer</td><td>Accessories</td><td>399.0</td><td>Downtown Mini Store</td><td>Pune</td><td>1995.0</td></tr><tr><td>2</td><td>2</td><td>124</td><td>10</td><td>5</td><td>2024-08-27</td><td>Kavita</td><td>Sharma</td><td>user124@example.com</td><td>9654321098</td><td>Kolkata</td><td>2023-11-15</td><td>Bluetooth Speaker</td><td>Electronics</td><td>1299.49</td><td>High Street Store</td><td>Delhi</td><td>6497.45</td></tr><tr><td>3</td><td>9</td><td>107</td><td>22</td><td>4</td><td>2024-11-16</td><td>Priya</td><td>Kapoor</td><td>user107@example.com</td><td>9821098765</td><td>Ahmedabad</td><td>2023-05-12</td><td>Dumbbell Set</td><td>Fitness</td><td>1999.0</td><td>Tech World Outlet</td><td>Bangalore</td><td>7996.0</td></tr><tr><td>4</td><td>1</td><td>103</td><td>18</td><td>3</td><td>2024-09-05</td><td>Sonal</td><td>Sharma</td><td>user103@example.com</td><td>9865432109</td><td>Bangalore</td><td>2023-07-10</td><td>Wireless Mouse</td><td>Electronics</td><td>799.99</td><td>Downtown Mini Store</td><td>Pune</td><td>2399.9700000000003</td></tr><tr><td>3</td><td>3</td><td>104</td><td>13</td><td>4</td><td>2025-05-04</td><td>Karan</td><td>Patel</td><td>user104@example.com</td><td>9854321098</td><td>Hyderabad</td><td>2024-02-05</td><td>Yoga Mat</td><td>Fitness</td><td>499.0</td><td>Tech World Outlet</td><td>Bangalore</td><td>1996.0</td></tr><tr><td>4</td><td>1</td><td>120</td><td>14</td><td>5</td><td>2024-07-17</td><td>Alka</td><td>Mishra</td><td>user120@example.com</td><td>9698765432</td><td>Hyderabad</td><td>2023-12-01</td><td>Wireless Mouse</td><td>Electronics</td><td>799.99</td><td>Downtown Mini Store</td><td>Pune</td><td>3999.95</td></tr><tr><td>3</td><td>1</td><td>105</td><td>21</td><td>5</td><td>2024-10-02</td><td>Riya</td><td>Singh</td><td>user105@example.com</td><td>9843210987</td><td>Chennai</td><td>2023-06-28</td><td>Wireless Mouse</td><td>Electronics</td><td>799.99</td><td>Tech World Outlet</td><td>Bangalore</td><td>3999.95</td></tr><tr><td>1</td><td>5</td><td>108</td><td>12</td><td>4</td><td>2025-05-26</td><td>Rahul</td><td>Verma</td><td>user108@example.com</td><td>9810987654</td><td>Kolkata</td><td>2023-08-19</td><td>Notebook Set</td><td>Stationery</td><td>149.0</td><td>City Mall Store</td><td>Mumbai</td><td>596.0</td></tr><tr><td>3</td><td>1</td><td>123</td><td>9</td><td>2</td><td>2024-10-08</td><td>Arjun</td><td>Yadav</td><td>user123@example.com</td><td>9665432109</td><td>Ahmedabad</td><td>2024-02-25</td><td>Wireless Mouse</td><td>Electronics</td><td>799.99</td><td>Tech World Outlet</td><td>Bangalore</td><td>1599.98</td></tr><tr><td>1</td><td>8</td><td>127</td><td>27</td><td>1</td><td>2024-10-10</td><td>Rohit</td><td>Mehta</td><td>user127@example.com</td><td>9621098765</td><td>Bangalore</td><td>2023-08-30</td><td>Desk Organizer</td><td>Accessories</td><td>399.0</td><td>City Mall Store</td><td>Mumbai</td><td>399.0</td></tr><tr><td>5</td><td>7</td><td>101</td><td>28</td><td>3</td><td>2024-11-15</td><td>Ravi</td><td>Yadav</td><td>user101@example.com</td><td>9887654321</td><td>Delhi</td><td>2023-09-14</td><td>Smartwatch</td><td>Electronics</td><td>4999.0</td><td>Mega Plaza</td><td>Chennai</td><td>14997.0</td></tr><tr><td>3</td><td>1</td><td>102</td><td>11</td><td>2</td><td>2024-08-11</td><td>Nina</td><td>Joshi</td><td>user102@example.com</td><td>9876543210</td><td>Mumbai</td><td>2024-01-21</td><td>Wireless Mouse</td><td>Electronics</td><td>799.99</td><td>Tech World Outlet</td><td>Bangalore</td><td>1599.98</td></tr><tr><td>2</td><td>6</td><td>118</td><td>16</td><td>4</td><td>2024-11-29</td><td>Vikram</td><td>Mehta</td><td>user118@example.com</td><td>9710987654</td><td>Mumbai</td><td>2023-04-22</td><td>Water Bottle</td><td>Fitness</td><td>299.0</td><td>High Street Store</td><td>Delhi</td><td>1196.0</td></tr><tr><td>5</td><td>1</td><td>125</td><td>24</td><td>1</td><td>2024-07-14</td><td>Tarun</td><td>Verma</td><td>user125@example.com</td><td>9643210987</td><td>Delhi</td><td>2024-04-05</td><td>Wireless Mouse</td><td>Electronics</td><td>799.99</td><td>Mega Plaza</td><td>Chennai</td><td>799.99</td></tr><tr><td>4</td><td>9</td><td>122</td><td>23</td><td>2</td><td>2025-04-30</td><td>Tina</td><td>Kapoor</td><td>user122@example.com</td><td>9676543210</td><td>Pune</td><td>2023-09-20</td><td>Dumbbell Set</td><td>Fitness</td><td>1999.0</td><td>Downtown Mini Store</td><td>Pune</td><td>3998.0</td></tr><tr><td>5</td><td>6</td><td>121</td><td>15</td><td>5</td><td>2025-05-19</td><td>Sanjay</td><td>Patel</td><td>user121@example.com</td><td>9687654321</td><td>Chennai</td><td>2024-01-10</td><td>Water Bottle</td><td>Fitness</td><td>299.0</td><td>Mega Plaza</td><td>Chennai</td><td>1495.0</td></tr><tr><td>5</td><td>8</td><td>109</td><td>17</td><td>5</td><td>2024-07-10</td><td>Pooja</td><td>Mehta</td><td>user109@example.com</td><td>9809876543</td><td>Delhi</td><td>2024-04-01</td><td>Desk Organizer</td><td>Accessories</td><td>399.0</td><td>Mega Plaza</td><td>Chennai</td><td>1995.0</td></tr><tr><td>5</td><td>7</td><td>126</td><td>8</td><td>2</td><td>2025-06-08</td><td>Bhavna</td><td>Nair</td><td>user126@example.com</td><td>9632109876</td><td>Mumbai</td><td>2023-07-17</td><td>Smartwatch</td><td>Electronics</td><td>4999.0</td><td>Mega Plaza</td><td>Chennai</td><td>9998.0</td></tr><tr><td>3</td><td>7</td><td>110</td><td>6</td><td>5</td><td>2025-01-04</td><td>Deepak</td><td>Nair</td><td>user110@example.com</td><td>9798765432</td><td>Mumbai</td><td>2023-10-14</td><td>Smartwatch</td><td>Electronics</td><td>4999.0</td><td>Tech World Outlet</td><td>Bangalore</td><td>24995.0</td></tr><tr><td>4</td><td>8</td><td>116</td><td>25</td><td>5</td><td>2024-12-13</td><td>Rakesh</td><td>Kapoor</td><td>user116@example.com</td><td>9732109876</td><td>Kolkata</td><td>2023-06-15</td><td>Desk Organizer</td><td>Accessories</td><td>399.0</td><td>Downtown Mini Store</td><td>Pune</td><td>1995.0</td></tr><tr><td>1</td><td>8</td><td>120</td><td>4</td><td>1</td><td>2024-11-02</td><td>Alka</td><td>Mishra</td><td>user120@example.com</td><td>9698765432</td><td>Hyderabad</td><td>2023-12-01</td><td>Desk Organizer</td><td>Accessories</td><td>399.0</td><td>City Mall Store</td><td>Mumbai</td><td>399.0</td></tr><tr><td>2</td><td>5</td><td>105</td><td>5</td><td>1</td><td>2025-03-17</td><td>Riya</td><td>Singh</td><td>user105@example.com</td><td>9843210987</td><td>Chennai</td><td>2023-06-28</td><td>Notebook Set</td><td>Stationery</td><td>149.0</td><td>High Street Store</td><td>Delhi</td><td>149.0</td></tr><tr><td>4</td><td>8</td><td>127</td><td>1</td><td>4</td><td>2025-03-31</td><td>Rohit</td><td>Mehta</td><td>user127@example.com</td><td>9621098765</td><td>Bangalore</td><td>2023-08-30</td><td>Desk Organizer</td><td>Accessories</td><td>399.0</td><td>Downtown Mini Store</td><td>Pune</td><td>1596.0</td></tr><tr><td>4</td><td>8</td><td>116</td><td>19</td><td>4</td><td>2024-07-14</td><td>Rakesh</td><td>Kapoor</td><td>user116@example.com</td><td>9732109876</td><td>Kolkata</td><td>2023-06-15</td><td>Desk Organizer</td><td>Accessories</td><td>399.0</td><td>Downtown Mini Store</td><td>Pune</td><td>1596.0</td></tr><tr><td>4</td><td>3</td><td>105</td><td>2</td><td>5</td><td>2024-11-12</td><td>Riya</td><td>Singh</td><td>user105@example.com</td><td>9843210987</td><td>Chennai</td><td>2023-06-28</td><td>Yoga Mat</td><td>Fitness</td><td>499.0</td><td>Downtown Mini Store</td><td>Pune</td><td>2495.0</td></tr><tr><td>2</td><td>2</td><td>116</td><td>3</td><td>3</td><td>2025-05-01</td><td>Rakesh</td><td>Kapoor</td><td>user116@example.com</td><td>9732109876</td><td>Kolkata</td><td>2023-06-15</td><td>Bluetooth Speaker</td><td>Electronics</td><td>1299.49</td><td>High Street Store</td><td>Delhi</td><td>3898.4700000000003</td></tr></tbody></table></div>"
      ]
     },
     "metadata": {
      "application/vnd.databricks.v1+output": {
       "addedWidgets": {},
       "aggData": [],
       "aggError": "",
       "aggOverflow": false,
       "aggSchema": [],
       "aggSeriesLimitReached": false,
       "aggType": "",
       "arguments": {},
       "columnCustomDisplayInfos": {},
       "data": [
        [
         1,
         5,
         130,
         20,
         2,
         "2024-07-30",
         "Tanvi",
         "Kapoor",
         "user130@example.com",
         "9598765432",
         "Pune",
         "2023-12-22",
         "Notebook Set",
         "Stationery",
         149.0,
         "City Mall Store",
         "Mumbai",
         298.0
        ],
        [
         2,
         6,
         126,
         26,
         2,
         "2024-09-21",
         "Bhavna",
         "Nair",
         "user126@example.com",
         "9632109876",
         "Mumbai",
         "2023-07-17",
         "Water Bottle",
         "Fitness",
         299.0,
         "High Street Store",
         "Delhi",
         598.0
        ],
        [
         2,
         7,
         110,
         7,
         5,
         "2025-01-01",
         "Deepak",
         "Nair",
         "user110@example.com",
         "9798765432",
         "Mumbai",
         "2023-10-14",
         "Smartwatch",
         "Electronics",
         4999.0,
         "High Street Store",
         "Delhi",
         24995.0
        ],
        [
         4,
         9,
         119,
         29,
         2,
         "2025-06-03",
         "Kunal",
         "Nair",
         "user119@example.com",
         "9709876543",
         "Bangalore",
         "2023-08-10",
         "Dumbbell Set",
         "Fitness",
         1999.0,
         "Downtown Mini Store",
         "Pune",
         3998.0
        ],
        [
         4,
         8,
         116,
         30,
         5,
         "2025-03-16",
         "Rakesh",
         "Kapoor",
         "user116@example.com",
         "9732109876",
         "Kolkata",
         "2023-06-15",
         "Desk Organizer",
         "Accessories",
         399.0,
         "Downtown Mini Store",
         "Pune",
         1995.0
        ],
        [
         2,
         2,
         124,
         10,
         5,
         "2024-08-27",
         "Kavita",
         "Sharma",
         "user124@example.com",
         "9654321098",
         "Kolkata",
         "2023-11-15",
         "Bluetooth Speaker",
         "Electronics",
         1299.49,
         "High Street Store",
         "Delhi",
         6497.45
        ],
        [
         3,
         9,
         107,
         22,
         4,
         "2024-11-16",
         "Priya",
         "Kapoor",
         "user107@example.com",
         "9821098765",
         "Ahmedabad",
         "2023-05-12",
         "Dumbbell Set",
         "Fitness",
         1999.0,
         "Tech World Outlet",
         "Bangalore",
         7996.0
        ],
        [
         4,
         1,
         103,
         18,
         3,
         "2024-09-05",
         "Sonal",
         "Sharma",
         "user103@example.com",
         "9865432109",
         "Bangalore",
         "2023-07-10",
         "Wireless Mouse",
         "Electronics",
         799.99,
         "Downtown Mini Store",
         "Pune",
         2399.9700000000003
        ],
        [
         3,
         3,
         104,
         13,
         4,
         "2025-05-04",
         "Karan",
         "Patel",
         "user104@example.com",
         "9854321098",
         "Hyderabad",
         "2024-02-05",
         "Yoga Mat",
         "Fitness",
         499.0,
         "Tech World Outlet",
         "Bangalore",
         1996.0
        ],
        [
         4,
         1,
         120,
         14,
         5,
         "2024-07-17",
         "Alka",
         "Mishra",
         "user120@example.com",
         "9698765432",
         "Hyderabad",
         "2023-12-01",
         "Wireless Mouse",
         "Electronics",
         799.99,
         "Downtown Mini Store",
         "Pune",
         3999.95
        ],
        [
         3,
         1,
         105,
         21,
         5,
         "2024-10-02",
         "Riya",
         "Singh",
         "user105@example.com",
         "9843210987",
         "Chennai",
         "2023-06-28",
         "Wireless Mouse",
         "Electronics",
         799.99,
         "Tech World Outlet",
         "Bangalore",
         3999.95
        ],
        [
         1,
         5,
         108,
         12,
         4,
         "2025-05-26",
         "Rahul",
         "Verma",
         "user108@example.com",
         "9810987654",
         "Kolkata",
         "2023-08-19",
         "Notebook Set",
         "Stationery",
         149.0,
         "City Mall Store",
         "Mumbai",
         596.0
        ],
        [
         3,
         1,
         123,
         9,
         2,
         "2024-10-08",
         "Arjun",
         "Yadav",
         "user123@example.com",
         "9665432109",
         "Ahmedabad",
         "2024-02-25",
         "Wireless Mouse",
         "Electronics",
         799.99,
         "Tech World Outlet",
         "Bangalore",
         1599.98
        ],
        [
         1,
         8,
         127,
         27,
         1,
         "2024-10-10",
         "Rohit",
         "Mehta",
         "user127@example.com",
         "9621098765",
         "Bangalore",
         "2023-08-30",
         "Desk Organizer",
         "Accessories",
         399.0,
         "City Mall Store",
         "Mumbai",
         399.0
        ],
        [
         5,
         7,
         101,
         28,
         3,
         "2024-11-15",
         "Ravi",
         "Yadav",
         "user101@example.com",
         "9887654321",
         "Delhi",
         "2023-09-14",
         "Smartwatch",
         "Electronics",
         4999.0,
         "Mega Plaza",
         "Chennai",
         14997.0
        ],
        [
         3,
         1,
         102,
         11,
         2,
         "2024-08-11",
         "Nina",
         "Joshi",
         "user102@example.com",
         "9876543210",
         "Mumbai",
         "2024-01-21",
         "Wireless Mouse",
         "Electronics",
         799.99,
         "Tech World Outlet",
         "Bangalore",
         1599.98
        ],
        [
         2,
         6,
         118,
         16,
         4,
         "2024-11-29",
         "Vikram",
         "Mehta",
         "user118@example.com",
         "9710987654",
         "Mumbai",
         "2023-04-22",
         "Water Bottle",
         "Fitness",
         299.0,
         "High Street Store",
         "Delhi",
         1196.0
        ],
        [
         5,
         1,
         125,
         24,
         1,
         "2024-07-14",
         "Tarun",
         "Verma",
         "user125@example.com",
         "9643210987",
         "Delhi",
         "2024-04-05",
         "Wireless Mouse",
         "Electronics",
         799.99,
         "Mega Plaza",
         "Chennai",
         799.99
        ],
        [
         4,
         9,
         122,
         23,
         2,
         "2025-04-30",
         "Tina",
         "Kapoor",
         "user122@example.com",
         "9676543210",
         "Pune",
         "2023-09-20",
         "Dumbbell Set",
         "Fitness",
         1999.0,
         "Downtown Mini Store",
         "Pune",
         3998.0
        ],
        [
         5,
         6,
         121,
         15,
         5,
         "2025-05-19",
         "Sanjay",
         "Patel",
         "user121@example.com",
         "9687654321",
         "Chennai",
         "2024-01-10",
         "Water Bottle",
         "Fitness",
         299.0,
         "Mega Plaza",
         "Chennai",
         1495.0
        ],
        [
         5,
         8,
         109,
         17,
         5,
         "2024-07-10",
         "Pooja",
         "Mehta",
         "user109@example.com",
         "9809876543",
         "Delhi",
         "2024-04-01",
         "Desk Organizer",
         "Accessories",
         399.0,
         "Mega Plaza",
         "Chennai",
         1995.0
        ],
        [
         5,
         7,
         126,
         8,
         2,
         "2025-06-08",
         "Bhavna",
         "Nair",
         "user126@example.com",
         "9632109876",
         "Mumbai",
         "2023-07-17",
         "Smartwatch",
         "Electronics",
         4999.0,
         "Mega Plaza",
         "Chennai",
         9998.0
        ],
        [
         3,
         7,
         110,
         6,
         5,
         "2025-01-04",
         "Deepak",
         "Nair",
         "user110@example.com",
         "9798765432",
         "Mumbai",
         "2023-10-14",
         "Smartwatch",
         "Electronics",
         4999.0,
         "Tech World Outlet",
         "Bangalore",
         24995.0
        ],
        [
         4,
         8,
         116,
         25,
         5,
         "2024-12-13",
         "Rakesh",
         "Kapoor",
         "user116@example.com",
         "9732109876",
         "Kolkata",
         "2023-06-15",
         "Desk Organizer",
         "Accessories",
         399.0,
         "Downtown Mini Store",
         "Pune",
         1995.0
        ],
        [
         1,
         8,
         120,
         4,
         1,
         "2024-11-02",
         "Alka",
         "Mishra",
         "user120@example.com",
         "9698765432",
         "Hyderabad",
         "2023-12-01",
         "Desk Organizer",
         "Accessories",
         399.0,
         "City Mall Store",
         "Mumbai",
         399.0
        ],
        [
         2,
         5,
         105,
         5,
         1,
         "2025-03-17",
         "Riya",
         "Singh",
         "user105@example.com",
         "9843210987",
         "Chennai",
         "2023-06-28",
         "Notebook Set",
         "Stationery",
         149.0,
         "High Street Store",
         "Delhi",
         149.0
        ],
        [
         4,
         8,
         127,
         1,
         4,
         "2025-03-31",
         "Rohit",
         "Mehta",
         "user127@example.com",
         "9621098765",
         "Bangalore",
         "2023-08-30",
         "Desk Organizer",
         "Accessories",
         399.0,
         "Downtown Mini Store",
         "Pune",
         1596.0
        ],
        [
         4,
         8,
         116,
         19,
         4,
         "2024-07-14",
         "Rakesh",
         "Kapoor",
         "user116@example.com",
         "9732109876",
         "Kolkata",
         "2023-06-15",
         "Desk Organizer",
         "Accessories",
         399.0,
         "Downtown Mini Store",
         "Pune",
         1596.0
        ],
        [
         4,
         3,
         105,
         2,
         5,
         "2024-11-12",
         "Riya",
         "Singh",
         "user105@example.com",
         "9843210987",
         "Chennai",
         "2023-06-28",
         "Yoga Mat",
         "Fitness",
         499.0,
         "Downtown Mini Store",
         "Pune",
         2495.0
        ],
        [
         2,
         2,
         116,
         3,
         3,
         "2025-05-01",
         "Rakesh",
         "Kapoor",
         "user116@example.com",
         "9732109876",
         "Kolkata",
         "2023-06-15",
         "Bluetooth Speaker",
         "Electronics",
         1299.49,
         "High Street Store",
         "Delhi",
         3898.4700000000003
        ]
       ],
       "datasetInfos": [],
       "dbfsResultPath": null,
       "isJsonSchema": true,
       "metadata": {},
       "overflow": false,
       "plotOptions": {
        "customPlotOptions": {},
        "displayType": "table",
        "pivotAggregation": null,
        "pivotColumns": null,
        "xColumns": null,
        "yColumns": null
       },
       "removedWidgets": [],
       "schema": [
        {
         "metadata": "{}",
         "name": "store_id",
         "type": "\"integer\""
        },
        {
         "metadata": "{}",
         "name": "product_id",
         "type": "\"integer\""
        },
        {
         "metadata": "{}",
         "name": "customer_id",
         "type": "\"integer\""
        },
        {
         "metadata": "{}",
         "name": "transaction_id",
         "type": "\"integer\""
        },
        {
         "metadata": "{}",
         "name": "quantity",
         "type": "\"integer\""
        },
        {
         "metadata": "{}",
         "name": "transaction_date",
         "type": "\"date\""
        },
        {
         "metadata": "{}",
         "name": "first_name",
         "type": "\"string\""
        },
        {
         "metadata": "{}",
         "name": "last_name",
         "type": "\"string\""
        },
        {
         "metadata": "{}",
         "name": "email",
         "type": "\"string\""
        },
        {
         "metadata": "{}",
         "name": "phone",
         "type": "\"string\""
        },
        {
         "metadata": "{}",
         "name": "city",
         "type": "\"string\""
        },
        {
         "metadata": "{}",
         "name": "registration_date",
         "type": "\"string\""
        },
        {
         "metadata": "{}",
         "name": "product_name",
         "type": "\"string\""
        },
        {
         "metadata": "{}",
         "name": "category",
         "type": "\"string\""
        },
        {
         "metadata": "{}",
         "name": "price",
         "type": "\"double\""
        },
        {
         "metadata": "{}",
         "name": "store_name",
         "type": "\"string\""
        },
        {
         "metadata": "{}",
         "name": "location",
         "type": "\"string\""
        },
        {
         "metadata": "{}",
         "name": "total_amount",
         "type": "\"double\""
        }
       ],
       "type": "table"
      }
     },
     "output_type": "display_data"
    }
   ],
   "source": [
    "display(df_silver)"
   ]
  },
  {
   "cell_type": "code",
   "execution_count": 0,
   "metadata": {
    "application/vnd.databricks.v1+cell": {
     "cellMetadata": {
      "byteLimit": 2048000,
      "rowLimit": 10000
     },
     "inputWidgets": {},
     "nuid": "e9acfe97-d829-4c78-a336-3590e56d79ee",
     "showTitle": true,
     "tableResultSettingsMap": {},
     "title": "Uploading the Joined file in the ADLS"
    }
   },
   "outputs": [],
   "source": [
    "silver_path = \"/mnt/retail_project/silver/\"\n",
    "df_silver.write.mode(\"overwrite\").format(\"delta\").save(silver_path)"
   ]
  },
  {
   "cell_type": "code",
   "execution_count": 0,
   "metadata": {
    "application/vnd.databricks.v1+cell": {
     "cellMetadata": {
      "byteLimit": 2048000,
      "rowLimit": 10000
     },
     "inputWidgets": {},
     "nuid": "74be8f43-c9b1-40cf-8399-1521a8120c05",
     "showTitle": true,
     "tableResultSettingsMap": {},
     "title": "Create Silver Dataset"
    }
   },
   "outputs": [
    {
     "output_type": "execute_result",
     "data": {
      "text/plain": [
       "DataFrame[]"
      ]
     },
     "execution_count": 27,
     "metadata": {},
     "output_type": "execute_result"
    }
   ],
   "source": [
    "spark.sql(f\"\"\"\n",
    "CREATE TABLE retail_silver_cleaned\n",
    "USING DELTA\n",
    "LOCATION '/mnt/retail_project/silver/'\n",
    "\"\"\")"
   ]
  },
  {
   "cell_type": "code",
   "execution_count": 0,
   "metadata": {
    "application/vnd.databricks.v1+cell": {
     "cellMetadata": {
      "byteLimit": 2048000,
      "implicitDf": true,
      "rowLimit": 10000
     },
     "inputWidgets": {},
     "nuid": "a8e6d98b-d7e5-4b03-b7a4-ec3507e9bd0e",
     "showTitle": false,
     "tableResultSettingsMap": {},
     "title": ""
    }
   },
   "outputs": [
    {
     "output_type": "display_data",
     "data": {
      "text/html": [
       "<style scoped>\n",
       "  .table-result-container {\n",
       "    max-height: 300px;\n",
       "    overflow: auto;\n",
       "  }\n",
       "  table, th, td {\n",
       "    border: 1px solid black;\n",
       "    border-collapse: collapse;\n",
       "  }\n",
       "  th, td {\n",
       "    padding: 5px;\n",
       "  }\n",
       "  th {\n",
       "    text-align: left;\n",
       "  }\n",
       "</style><div class='table-result-container'><table class='table-result'><thead style='background-color: white'><tr><th>store_id</th><th>product_id</th><th>customer_id</th><th>transaction_id</th><th>quantity</th><th>transaction_date</th><th>first_name</th><th>last_name</th><th>email</th><th>phone</th><th>city</th><th>registration_date</th><th>product_name</th><th>category</th><th>price</th><th>store_name</th><th>location</th><th>total_amount</th></tr></thead><tbody><tr><td>1</td><td>5</td><td>130</td><td>20</td><td>2</td><td>2024-07-30</td><td>Tanvi</td><td>Kapoor</td><td>user130@example.com</td><td>9598765432</td><td>Pune</td><td>2023-12-22</td><td>Notebook Set</td><td>Stationery</td><td>149.0</td><td>City Mall Store</td><td>Mumbai</td><td>298.0</td></tr><tr><td>2</td><td>6</td><td>126</td><td>26</td><td>2</td><td>2024-09-21</td><td>Bhavna</td><td>Nair</td><td>user126@example.com</td><td>9632109876</td><td>Mumbai</td><td>2023-07-17</td><td>Water Bottle</td><td>Fitness</td><td>299.0</td><td>High Street Store</td><td>Delhi</td><td>598.0</td></tr><tr><td>2</td><td>7</td><td>110</td><td>7</td><td>5</td><td>2025-01-01</td><td>Deepak</td><td>Nair</td><td>user110@example.com</td><td>9798765432</td><td>Mumbai</td><td>2023-10-14</td><td>Smartwatch</td><td>Electronics</td><td>4999.0</td><td>High Street Store</td><td>Delhi</td><td>24995.0</td></tr><tr><td>4</td><td>9</td><td>119</td><td>29</td><td>2</td><td>2025-06-03</td><td>Kunal</td><td>Nair</td><td>user119@example.com</td><td>9709876543</td><td>Bangalore</td><td>2023-08-10</td><td>Dumbbell Set</td><td>Fitness</td><td>1999.0</td><td>Downtown Mini Store</td><td>Pune</td><td>3998.0</td></tr><tr><td>4</td><td>8</td><td>116</td><td>30</td><td>5</td><td>2025-03-16</td><td>Rakesh</td><td>Kapoor</td><td>user116@example.com</td><td>9732109876</td><td>Kolkata</td><td>2023-06-15</td><td>Desk Organizer</td><td>Accessories</td><td>399.0</td><td>Downtown Mini Store</td><td>Pune</td><td>1995.0</td></tr><tr><td>2</td><td>2</td><td>124</td><td>10</td><td>5</td><td>2024-08-27</td><td>Kavita</td><td>Sharma</td><td>user124@example.com</td><td>9654321098</td><td>Kolkata</td><td>2023-11-15</td><td>Bluetooth Speaker</td><td>Electronics</td><td>1299.49</td><td>High Street Store</td><td>Delhi</td><td>6497.45</td></tr><tr><td>3</td><td>9</td><td>107</td><td>22</td><td>4</td><td>2024-11-16</td><td>Priya</td><td>Kapoor</td><td>user107@example.com</td><td>9821098765</td><td>Ahmedabad</td><td>2023-05-12</td><td>Dumbbell Set</td><td>Fitness</td><td>1999.0</td><td>Tech World Outlet</td><td>Bangalore</td><td>7996.0</td></tr><tr><td>4</td><td>1</td><td>103</td><td>18</td><td>3</td><td>2024-09-05</td><td>Sonal</td><td>Sharma</td><td>user103@example.com</td><td>9865432109</td><td>Bangalore</td><td>2023-07-10</td><td>Wireless Mouse</td><td>Electronics</td><td>799.99</td><td>Downtown Mini Store</td><td>Pune</td><td>2399.9700000000003</td></tr><tr><td>3</td><td>3</td><td>104</td><td>13</td><td>4</td><td>2025-05-04</td><td>Karan</td><td>Patel</td><td>user104@example.com</td><td>9854321098</td><td>Hyderabad</td><td>2024-02-05</td><td>Yoga Mat</td><td>Fitness</td><td>499.0</td><td>Tech World Outlet</td><td>Bangalore</td><td>1996.0</td></tr><tr><td>4</td><td>1</td><td>120</td><td>14</td><td>5</td><td>2024-07-17</td><td>Alka</td><td>Mishra</td><td>user120@example.com</td><td>9698765432</td><td>Hyderabad</td><td>2023-12-01</td><td>Wireless Mouse</td><td>Electronics</td><td>799.99</td><td>Downtown Mini Store</td><td>Pune</td><td>3999.95</td></tr><tr><td>3</td><td>1</td><td>105</td><td>21</td><td>5</td><td>2024-10-02</td><td>Riya</td><td>Singh</td><td>user105@example.com</td><td>9843210987</td><td>Chennai</td><td>2023-06-28</td><td>Wireless Mouse</td><td>Electronics</td><td>799.99</td><td>Tech World Outlet</td><td>Bangalore</td><td>3999.95</td></tr><tr><td>1</td><td>5</td><td>108</td><td>12</td><td>4</td><td>2025-05-26</td><td>Rahul</td><td>Verma</td><td>user108@example.com</td><td>9810987654</td><td>Kolkata</td><td>2023-08-19</td><td>Notebook Set</td><td>Stationery</td><td>149.0</td><td>City Mall Store</td><td>Mumbai</td><td>596.0</td></tr><tr><td>3</td><td>1</td><td>123</td><td>9</td><td>2</td><td>2024-10-08</td><td>Arjun</td><td>Yadav</td><td>user123@example.com</td><td>9665432109</td><td>Ahmedabad</td><td>2024-02-25</td><td>Wireless Mouse</td><td>Electronics</td><td>799.99</td><td>Tech World Outlet</td><td>Bangalore</td><td>1599.98</td></tr><tr><td>1</td><td>8</td><td>127</td><td>27</td><td>1</td><td>2024-10-10</td><td>Rohit</td><td>Mehta</td><td>user127@example.com</td><td>9621098765</td><td>Bangalore</td><td>2023-08-30</td><td>Desk Organizer</td><td>Accessories</td><td>399.0</td><td>City Mall Store</td><td>Mumbai</td><td>399.0</td></tr><tr><td>5</td><td>7</td><td>101</td><td>28</td><td>3</td><td>2024-11-15</td><td>Ravi</td><td>Yadav</td><td>user101@example.com</td><td>9887654321</td><td>Delhi</td><td>2023-09-14</td><td>Smartwatch</td><td>Electronics</td><td>4999.0</td><td>Mega Plaza</td><td>Chennai</td><td>14997.0</td></tr><tr><td>3</td><td>1</td><td>102</td><td>11</td><td>2</td><td>2024-08-11</td><td>Nina</td><td>Joshi</td><td>user102@example.com</td><td>9876543210</td><td>Mumbai</td><td>2024-01-21</td><td>Wireless Mouse</td><td>Electronics</td><td>799.99</td><td>Tech World Outlet</td><td>Bangalore</td><td>1599.98</td></tr><tr><td>2</td><td>6</td><td>118</td><td>16</td><td>4</td><td>2024-11-29</td><td>Vikram</td><td>Mehta</td><td>user118@example.com</td><td>9710987654</td><td>Mumbai</td><td>2023-04-22</td><td>Water Bottle</td><td>Fitness</td><td>299.0</td><td>High Street Store</td><td>Delhi</td><td>1196.0</td></tr><tr><td>5</td><td>1</td><td>125</td><td>24</td><td>1</td><td>2024-07-14</td><td>Tarun</td><td>Verma</td><td>user125@example.com</td><td>9643210987</td><td>Delhi</td><td>2024-04-05</td><td>Wireless Mouse</td><td>Electronics</td><td>799.99</td><td>Mega Plaza</td><td>Chennai</td><td>799.99</td></tr><tr><td>4</td><td>9</td><td>122</td><td>23</td><td>2</td><td>2025-04-30</td><td>Tina</td><td>Kapoor</td><td>user122@example.com</td><td>9676543210</td><td>Pune</td><td>2023-09-20</td><td>Dumbbell Set</td><td>Fitness</td><td>1999.0</td><td>Downtown Mini Store</td><td>Pune</td><td>3998.0</td></tr><tr><td>5</td><td>6</td><td>121</td><td>15</td><td>5</td><td>2025-05-19</td><td>Sanjay</td><td>Patel</td><td>user121@example.com</td><td>9687654321</td><td>Chennai</td><td>2024-01-10</td><td>Water Bottle</td><td>Fitness</td><td>299.0</td><td>Mega Plaza</td><td>Chennai</td><td>1495.0</td></tr><tr><td>5</td><td>8</td><td>109</td><td>17</td><td>5</td><td>2024-07-10</td><td>Pooja</td><td>Mehta</td><td>user109@example.com</td><td>9809876543</td><td>Delhi</td><td>2024-04-01</td><td>Desk Organizer</td><td>Accessories</td><td>399.0</td><td>Mega Plaza</td><td>Chennai</td><td>1995.0</td></tr><tr><td>5</td><td>7</td><td>126</td><td>8</td><td>2</td><td>2025-06-08</td><td>Bhavna</td><td>Nair</td><td>user126@example.com</td><td>9632109876</td><td>Mumbai</td><td>2023-07-17</td><td>Smartwatch</td><td>Electronics</td><td>4999.0</td><td>Mega Plaza</td><td>Chennai</td><td>9998.0</td></tr><tr><td>3</td><td>7</td><td>110</td><td>6</td><td>5</td><td>2025-01-04</td><td>Deepak</td><td>Nair</td><td>user110@example.com</td><td>9798765432</td><td>Mumbai</td><td>2023-10-14</td><td>Smartwatch</td><td>Electronics</td><td>4999.0</td><td>Tech World Outlet</td><td>Bangalore</td><td>24995.0</td></tr><tr><td>4</td><td>8</td><td>116</td><td>25</td><td>5</td><td>2024-12-13</td><td>Rakesh</td><td>Kapoor</td><td>user116@example.com</td><td>9732109876</td><td>Kolkata</td><td>2023-06-15</td><td>Desk Organizer</td><td>Accessories</td><td>399.0</td><td>Downtown Mini Store</td><td>Pune</td><td>1995.0</td></tr><tr><td>1</td><td>8</td><td>120</td><td>4</td><td>1</td><td>2024-11-02</td><td>Alka</td><td>Mishra</td><td>user120@example.com</td><td>9698765432</td><td>Hyderabad</td><td>2023-12-01</td><td>Desk Organizer</td><td>Accessories</td><td>399.0</td><td>City Mall Store</td><td>Mumbai</td><td>399.0</td></tr><tr><td>2</td><td>5</td><td>105</td><td>5</td><td>1</td><td>2025-03-17</td><td>Riya</td><td>Singh</td><td>user105@example.com</td><td>9843210987</td><td>Chennai</td><td>2023-06-28</td><td>Notebook Set</td><td>Stationery</td><td>149.0</td><td>High Street Store</td><td>Delhi</td><td>149.0</td></tr><tr><td>4</td><td>8</td><td>127</td><td>1</td><td>4</td><td>2025-03-31</td><td>Rohit</td><td>Mehta</td><td>user127@example.com</td><td>9621098765</td><td>Bangalore</td><td>2023-08-30</td><td>Desk Organizer</td><td>Accessories</td><td>399.0</td><td>Downtown Mini Store</td><td>Pune</td><td>1596.0</td></tr><tr><td>4</td><td>8</td><td>116</td><td>19</td><td>4</td><td>2024-07-14</td><td>Rakesh</td><td>Kapoor</td><td>user116@example.com</td><td>9732109876</td><td>Kolkata</td><td>2023-06-15</td><td>Desk Organizer</td><td>Accessories</td><td>399.0</td><td>Downtown Mini Store</td><td>Pune</td><td>1596.0</td></tr><tr><td>4</td><td>3</td><td>105</td><td>2</td><td>5</td><td>2024-11-12</td><td>Riya</td><td>Singh</td><td>user105@example.com</td><td>9843210987</td><td>Chennai</td><td>2023-06-28</td><td>Yoga Mat</td><td>Fitness</td><td>499.0</td><td>Downtown Mini Store</td><td>Pune</td><td>2495.0</td></tr><tr><td>2</td><td>2</td><td>116</td><td>3</td><td>3</td><td>2025-05-01</td><td>Rakesh</td><td>Kapoor</td><td>user116@example.com</td><td>9732109876</td><td>Kolkata</td><td>2023-06-15</td><td>Bluetooth Speaker</td><td>Electronics</td><td>1299.49</td><td>High Street Store</td><td>Delhi</td><td>3898.4700000000003</td></tr></tbody></table></div>"
      ]
     },
     "metadata": {
      "application/vnd.databricks.v1+output": {
       "addedWidgets": {},
       "aggData": [],
       "aggError": "",
       "aggOverflow": false,
       "aggSchema": [],
       "aggSeriesLimitReached": false,
       "aggType": "",
       "arguments": {},
       "columnCustomDisplayInfos": {},
       "data": [
        [
         1,
         5,
         130,
         20,
         2,
         "2024-07-30",
         "Tanvi",
         "Kapoor",
         "user130@example.com",
         "9598765432",
         "Pune",
         "2023-12-22",
         "Notebook Set",
         "Stationery",
         149.0,
         "City Mall Store",
         "Mumbai",
         298.0
        ],
        [
         2,
         6,
         126,
         26,
         2,
         "2024-09-21",
         "Bhavna",
         "Nair",
         "user126@example.com",
         "9632109876",
         "Mumbai",
         "2023-07-17",
         "Water Bottle",
         "Fitness",
         299.0,
         "High Street Store",
         "Delhi",
         598.0
        ],
        [
         2,
         7,
         110,
         7,
         5,
         "2025-01-01",
         "Deepak",
         "Nair",
         "user110@example.com",
         "9798765432",
         "Mumbai",
         "2023-10-14",
         "Smartwatch",
         "Electronics",
         4999.0,
         "High Street Store",
         "Delhi",
         24995.0
        ],
        [
         4,
         9,
         119,
         29,
         2,
         "2025-06-03",
         "Kunal",
         "Nair",
         "user119@example.com",
         "9709876543",
         "Bangalore",
         "2023-08-10",
         "Dumbbell Set",
         "Fitness",
         1999.0,
         "Downtown Mini Store",
         "Pune",
         3998.0
        ],
        [
         4,
         8,
         116,
         30,
         5,
         "2025-03-16",
         "Rakesh",
         "Kapoor",
         "user116@example.com",
         "9732109876",
         "Kolkata",
         "2023-06-15",
         "Desk Organizer",
         "Accessories",
         399.0,
         "Downtown Mini Store",
         "Pune",
         1995.0
        ],
        [
         2,
         2,
         124,
         10,
         5,
         "2024-08-27",
         "Kavita",
         "Sharma",
         "user124@example.com",
         "9654321098",
         "Kolkata",
         "2023-11-15",
         "Bluetooth Speaker",
         "Electronics",
         1299.49,
         "High Street Store",
         "Delhi",
         6497.45
        ],
        [
         3,
         9,
         107,
         22,
         4,
         "2024-11-16",
         "Priya",
         "Kapoor",
         "user107@example.com",
         "9821098765",
         "Ahmedabad",
         "2023-05-12",
         "Dumbbell Set",
         "Fitness",
         1999.0,
         "Tech World Outlet",
         "Bangalore",
         7996.0
        ],
        [
         4,
         1,
         103,
         18,
         3,
         "2024-09-05",
         "Sonal",
         "Sharma",
         "user103@example.com",
         "9865432109",
         "Bangalore",
         "2023-07-10",
         "Wireless Mouse",
         "Electronics",
         799.99,
         "Downtown Mini Store",
         "Pune",
         2399.9700000000003
        ],
        [
         3,
         3,
         104,
         13,
         4,
         "2025-05-04",
         "Karan",
         "Patel",
         "user104@example.com",
         "9854321098",
         "Hyderabad",
         "2024-02-05",
         "Yoga Mat",
         "Fitness",
         499.0,
         "Tech World Outlet",
         "Bangalore",
         1996.0
        ],
        [
         4,
         1,
         120,
         14,
         5,
         "2024-07-17",
         "Alka",
         "Mishra",
         "user120@example.com",
         "9698765432",
         "Hyderabad",
         "2023-12-01",
         "Wireless Mouse",
         "Electronics",
         799.99,
         "Downtown Mini Store",
         "Pune",
         3999.95
        ],
        [
         3,
         1,
         105,
         21,
         5,
         "2024-10-02",
         "Riya",
         "Singh",
         "user105@example.com",
         "9843210987",
         "Chennai",
         "2023-06-28",
         "Wireless Mouse",
         "Electronics",
         799.99,
         "Tech World Outlet",
         "Bangalore",
         3999.95
        ],
        [
         1,
         5,
         108,
         12,
         4,
         "2025-05-26",
         "Rahul",
         "Verma",
         "user108@example.com",
         "9810987654",
         "Kolkata",
         "2023-08-19",
         "Notebook Set",
         "Stationery",
         149.0,
         "City Mall Store",
         "Mumbai",
         596.0
        ],
        [
         3,
         1,
         123,
         9,
         2,
         "2024-10-08",
         "Arjun",
         "Yadav",
         "user123@example.com",
         "9665432109",
         "Ahmedabad",
         "2024-02-25",
         "Wireless Mouse",
         "Electronics",
         799.99,
         "Tech World Outlet",
         "Bangalore",
         1599.98
        ],
        [
         1,
         8,
         127,
         27,
         1,
         "2024-10-10",
         "Rohit",
         "Mehta",
         "user127@example.com",
         "9621098765",
         "Bangalore",
         "2023-08-30",
         "Desk Organizer",
         "Accessories",
         399.0,
         "City Mall Store",
         "Mumbai",
         399.0
        ],
        [
         5,
         7,
         101,
         28,
         3,
         "2024-11-15",
         "Ravi",
         "Yadav",
         "user101@example.com",
         "9887654321",
         "Delhi",
         "2023-09-14",
         "Smartwatch",
         "Electronics",
         4999.0,
         "Mega Plaza",
         "Chennai",
         14997.0
        ],
        [
         3,
         1,
         102,
         11,
         2,
         "2024-08-11",
         "Nina",
         "Joshi",
         "user102@example.com",
         "9876543210",
         "Mumbai",
         "2024-01-21",
         "Wireless Mouse",
         "Electronics",
         799.99,
         "Tech World Outlet",
         "Bangalore",
         1599.98
        ],
        [
         2,
         6,
         118,
         16,
         4,
         "2024-11-29",
         "Vikram",
         "Mehta",
         "user118@example.com",
         "9710987654",
         "Mumbai",
         "2023-04-22",
         "Water Bottle",
         "Fitness",
         299.0,
         "High Street Store",
         "Delhi",
         1196.0
        ],
        [
         5,
         1,
         125,
         24,
         1,
         "2024-07-14",
         "Tarun",
         "Verma",
         "user125@example.com",
         "9643210987",
         "Delhi",
         "2024-04-05",
         "Wireless Mouse",
         "Electronics",
         799.99,
         "Mega Plaza",
         "Chennai",
         799.99
        ],
        [
         4,
         9,
         122,
         23,
         2,
         "2025-04-30",
         "Tina",
         "Kapoor",
         "user122@example.com",
         "9676543210",
         "Pune",
         "2023-09-20",
         "Dumbbell Set",
         "Fitness",
         1999.0,
         "Downtown Mini Store",
         "Pune",
         3998.0
        ],
        [
         5,
         6,
         121,
         15,
         5,
         "2025-05-19",
         "Sanjay",
         "Patel",
         "user121@example.com",
         "9687654321",
         "Chennai",
         "2024-01-10",
         "Water Bottle",
         "Fitness",
         299.0,
         "Mega Plaza",
         "Chennai",
         1495.0
        ],
        [
         5,
         8,
         109,
         17,
         5,
         "2024-07-10",
         "Pooja",
         "Mehta",
         "user109@example.com",
         "9809876543",
         "Delhi",
         "2024-04-01",
         "Desk Organizer",
         "Accessories",
         399.0,
         "Mega Plaza",
         "Chennai",
         1995.0
        ],
        [
         5,
         7,
         126,
         8,
         2,
         "2025-06-08",
         "Bhavna",
         "Nair",
         "user126@example.com",
         "9632109876",
         "Mumbai",
         "2023-07-17",
         "Smartwatch",
         "Electronics",
         4999.0,
         "Mega Plaza",
         "Chennai",
         9998.0
        ],
        [
         3,
         7,
         110,
         6,
         5,
         "2025-01-04",
         "Deepak",
         "Nair",
         "user110@example.com",
         "9798765432",
         "Mumbai",
         "2023-10-14",
         "Smartwatch",
         "Electronics",
         4999.0,
         "Tech World Outlet",
         "Bangalore",
         24995.0
        ],
        [
         4,
         8,
         116,
         25,
         5,
         "2024-12-13",
         "Rakesh",
         "Kapoor",
         "user116@example.com",
         "9732109876",
         "Kolkata",
         "2023-06-15",
         "Desk Organizer",
         "Accessories",
         399.0,
         "Downtown Mini Store",
         "Pune",
         1995.0
        ],
        [
         1,
         8,
         120,
         4,
         1,
         "2024-11-02",
         "Alka",
         "Mishra",
         "user120@example.com",
         "9698765432",
         "Hyderabad",
         "2023-12-01",
         "Desk Organizer",
         "Accessories",
         399.0,
         "City Mall Store",
         "Mumbai",
         399.0
        ],
        [
         2,
         5,
         105,
         5,
         1,
         "2025-03-17",
         "Riya",
         "Singh",
         "user105@example.com",
         "9843210987",
         "Chennai",
         "2023-06-28",
         "Notebook Set",
         "Stationery",
         149.0,
         "High Street Store",
         "Delhi",
         149.0
        ],
        [
         4,
         8,
         127,
         1,
         4,
         "2025-03-31",
         "Rohit",
         "Mehta",
         "user127@example.com",
         "9621098765",
         "Bangalore",
         "2023-08-30",
         "Desk Organizer",
         "Accessories",
         399.0,
         "Downtown Mini Store",
         "Pune",
         1596.0
        ],
        [
         4,
         8,
         116,
         19,
         4,
         "2024-07-14",
         "Rakesh",
         "Kapoor",
         "user116@example.com",
         "9732109876",
         "Kolkata",
         "2023-06-15",
         "Desk Organizer",
         "Accessories",
         399.0,
         "Downtown Mini Store",
         "Pune",
         1596.0
        ],
        [
         4,
         3,
         105,
         2,
         5,
         "2024-11-12",
         "Riya",
         "Singh",
         "user105@example.com",
         "9843210987",
         "Chennai",
         "2023-06-28",
         "Yoga Mat",
         "Fitness",
         499.0,
         "Downtown Mini Store",
         "Pune",
         2495.0
        ],
        [
         2,
         2,
         116,
         3,
         3,
         "2025-05-01",
         "Rakesh",
         "Kapoor",
         "user116@example.com",
         "9732109876",
         "Kolkata",
         "2023-06-15",
         "Bluetooth Speaker",
         "Electronics",
         1299.49,
         "High Street Store",
         "Delhi",
         3898.4700000000003
        ]
       ],
       "datasetInfos": [
        {
         "name": "_sqldf",
         "schema": {
          "fields": [
           {
            "metadata": {},
            "name": "store_id",
            "nullable": true,
            "type": "integer"
           },
           {
            "metadata": {},
            "name": "product_id",
            "nullable": true,
            "type": "integer"
           },
           {
            "metadata": {},
            "name": "customer_id",
            "nullable": true,
            "type": "integer"
           },
           {
            "metadata": {},
            "name": "transaction_id",
            "nullable": true,
            "type": "integer"
           },
           {
            "metadata": {},
            "name": "quantity",
            "nullable": true,
            "type": "integer"
           },
           {
            "metadata": {},
            "name": "transaction_date",
            "nullable": true,
            "type": "date"
           },
           {
            "metadata": {},
            "name": "first_name",
            "nullable": true,
            "type": "string"
           },
           {
            "metadata": {},
            "name": "last_name",
            "nullable": true,
            "type": "string"
           },
           {
            "metadata": {},
            "name": "email",
            "nullable": true,
            "type": "string"
           },
           {
            "metadata": {},
            "name": "phone",
            "nullable": true,
            "type": "string"
           },
           {
            "metadata": {},
            "name": "city",
            "nullable": true,
            "type": "string"
           },
           {
            "metadata": {},
            "name": "registration_date",
            "nullable": true,
            "type": "string"
           },
           {
            "metadata": {},
            "name": "product_name",
            "nullable": true,
            "type": "string"
           },
           {
            "metadata": {},
            "name": "category",
            "nullable": true,
            "type": "string"
           },
           {
            "metadata": {},
            "name": "price",
            "nullable": true,
            "type": "double"
           },
           {
            "metadata": {},
            "name": "store_name",
            "nullable": true,
            "type": "string"
           },
           {
            "metadata": {},
            "name": "location",
            "nullable": true,
            "type": "string"
           },
           {
            "metadata": {},
            "name": "total_amount",
            "nullable": true,
            "type": "double"
           }
          ],
          "type": "struct"
         },
         "tableIdentifier": null,
         "typeStr": "pyspark.sql.dataframe.DataFrame"
        }
       ],
       "dbfsResultPath": null,
       "isJsonSchema": true,
       "metadata": {
        "createTempViewForImplicitDf": true,
        "dataframeName": "_sqldf",
        "executionCount": 28
       },
       "overflow": false,
       "plotOptions": {
        "customPlotOptions": {},
        "displayType": "table",
        "pivotAggregation": null,
        "pivotColumns": null,
        "xColumns": null,
        "yColumns": null
       },
       "removedWidgets": [],
       "schema": [
        {
         "metadata": "{}",
         "name": "store_id",
         "type": "\"integer\""
        },
        {
         "metadata": "{}",
         "name": "product_id",
         "type": "\"integer\""
        },
        {
         "metadata": "{}",
         "name": "customer_id",
         "type": "\"integer\""
        },
        {
         "metadata": "{}",
         "name": "transaction_id",
         "type": "\"integer\""
        },
        {
         "metadata": "{}",
         "name": "quantity",
         "type": "\"integer\""
        },
        {
         "metadata": "{}",
         "name": "transaction_date",
         "type": "\"date\""
        },
        {
         "metadata": "{}",
         "name": "first_name",
         "type": "\"string\""
        },
        {
         "metadata": "{}",
         "name": "last_name",
         "type": "\"string\""
        },
        {
         "metadata": "{}",
         "name": "email",
         "type": "\"string\""
        },
        {
         "metadata": "{}",
         "name": "phone",
         "type": "\"string\""
        },
        {
         "metadata": "{}",
         "name": "city",
         "type": "\"string\""
        },
        {
         "metadata": "{}",
         "name": "registration_date",
         "type": "\"string\""
        },
        {
         "metadata": "{}",
         "name": "product_name",
         "type": "\"string\""
        },
        {
         "metadata": "{}",
         "name": "category",
         "type": "\"string\""
        },
        {
         "metadata": "{}",
         "name": "price",
         "type": "\"double\""
        },
        {
         "metadata": "{}",
         "name": "store_name",
         "type": "\"string\""
        },
        {
         "metadata": "{}",
         "name": "location",
         "type": "\"string\""
        },
        {
         "metadata": "{}",
         "name": "total_amount",
         "type": "\"double\""
        }
       ],
       "type": "table"
      }
     },
     "output_type": "display_data"
    }
   ],
   "source": [
    "%sql select * from retail_silver_cleaned"
   ]
  },
  {
   "cell_type": "code",
   "execution_count": 0,
   "metadata": {
    "application/vnd.databricks.v1+cell": {
     "cellMetadata": {
      "byteLimit": 2048000,
      "rowLimit": 10000
     },
     "inputWidgets": {},
     "nuid": "517da94b-f04c-4d7c-a2d9-3fd2457b3429",
     "showTitle": true,
     "tableResultSettingsMap": {},
     "title": "Gold Layer"
    }
   },
   "outputs": [],
   "source": [
    "silver_df = spark.read.format(\"delta\").load(\"/mnt/retail_project/silver/\")\n"
   ]
  },
  {
   "cell_type": "code",
   "execution_count": 0,
   "metadata": {
    "application/vnd.databricks.v1+cell": {
     "cellMetadata": {
      "byteLimit": 2048000,
      "rowLimit": 10000
     },
     "inputWidgets": {},
     "nuid": "388bd98d-ba7c-4381-9c1d-23c20038242d",
     "showTitle": false,
     "tableResultSettingsMap": {},
     "title": ""
    }
   },
   "outputs": [],
   "source": [
    "from pyspark.sql.functions import sum, countDistinct, avg\n",
    "\n",
    "gold_df = silver_df.groupBy(\n",
    "    \"transaction_date\",\n",
    "    \"product_id\", \"product_name\", \"category\",\n",
    "    \"store_id\", \"store_name\", \"location\"\n",
    ").agg(\n",
    "    sum(\"quantity\").alias(\"total_quantity_sold\"),\n",
    "    sum(\"total_amount\").alias(\"total_sales_amount\"),\n",
    "    countDistinct(\"transaction_id\").alias(\"number_of_transactions\"),\n",
    "    avg(\"total_amount\").alias(\"average_transaction_value\")\n",
    ")"
   ]
  },
  {
   "cell_type": "code",
   "execution_count": 0,
   "metadata": {
    "application/vnd.databricks.v1+cell": {
     "cellMetadata": {
      "byteLimit": 2048000,
      "rowLimit": 10000
     },
     "inputWidgets": {},
     "nuid": "a2b771a7-1bcd-463c-b138-8183d35f024f",
     "showTitle": false,
     "tableResultSettingsMap": {},
     "title": ""
    }
   },
   "outputs": [
    {
     "output_type": "display_data",
     "data": {
      "text/html": [
       "<style scoped>\n",
       "  .table-result-container {\n",
       "    max-height: 300px;\n",
       "    overflow: auto;\n",
       "  }\n",
       "  table, th, td {\n",
       "    border: 1px solid black;\n",
       "    border-collapse: collapse;\n",
       "  }\n",
       "  th, td {\n",
       "    padding: 5px;\n",
       "  }\n",
       "  th {\n",
       "    text-align: left;\n",
       "  }\n",
       "</style><div class='table-result-container'><table class='table-result'><thead style='background-color: white'><tr><th>transaction_date</th><th>product_id</th><th>product_name</th><th>category</th><th>store_id</th><th>store_name</th><th>location</th><th>total_quantity_sold</th><th>total_sales_amount</th><th>number_of_transactions</th><th>average_transaction_value</th></tr></thead><tbody><tr><td>2024-11-02</td><td>8</td><td>Desk Organizer</td><td>Accessories</td><td>1</td><td>City Mall Store</td><td>Mumbai</td><td>1</td><td>399.0</td><td>1</td><td>399.0</td></tr><tr><td>2024-08-11</td><td>1</td><td>Wireless Mouse</td><td>Electronics</td><td>3</td><td>Tech World Outlet</td><td>Bangalore</td><td>2</td><td>1599.98</td><td>1</td><td>1599.98</td></tr><tr><td>2024-12-13</td><td>8</td><td>Desk Organizer</td><td>Accessories</td><td>4</td><td>Downtown Mini Store</td><td>Pune</td><td>5</td><td>1995.0</td><td>1</td><td>1995.0</td></tr><tr><td>2025-05-04</td><td>3</td><td>Yoga Mat</td><td>Fitness</td><td>3</td><td>Tech World Outlet</td><td>Bangalore</td><td>4</td><td>1996.0</td><td>1</td><td>1996.0</td></tr><tr><td>2025-05-26</td><td>5</td><td>Notebook Set</td><td>Stationery</td><td>1</td><td>City Mall Store</td><td>Mumbai</td><td>4</td><td>596.0</td><td>1</td><td>596.0</td></tr><tr><td>2024-07-14</td><td>1</td><td>Wireless Mouse</td><td>Electronics</td><td>5</td><td>Mega Plaza</td><td>Chennai</td><td>1</td><td>799.99</td><td>1</td><td>799.99</td></tr><tr><td>2024-07-17</td><td>1</td><td>Wireless Mouse</td><td>Electronics</td><td>4</td><td>Downtown Mini Store</td><td>Pune</td><td>5</td><td>3999.95</td><td>1</td><td>3999.95</td></tr><tr><td>2024-09-05</td><td>1</td><td>Wireless Mouse</td><td>Electronics</td><td>4</td><td>Downtown Mini Store</td><td>Pune</td><td>3</td><td>2399.9700000000003</td><td>1</td><td>2399.9700000000003</td></tr><tr><td>2025-06-03</td><td>9</td><td>Dumbbell Set</td><td>Fitness</td><td>4</td><td>Downtown Mini Store</td><td>Pune</td><td>2</td><td>3998.0</td><td>1</td><td>3998.0</td></tr><tr><td>2024-08-27</td><td>2</td><td>Bluetooth Speaker</td><td>Electronics</td><td>2</td><td>High Street Store</td><td>Delhi</td><td>5</td><td>6497.45</td><td>1</td><td>6497.45</td></tr><tr><td>2025-01-01</td><td>7</td><td>Smartwatch</td><td>Electronics</td><td>2</td><td>High Street Store</td><td>Delhi</td><td>5</td><td>24995.0</td><td>1</td><td>24995.0</td></tr><tr><td>2025-05-19</td><td>6</td><td>Water Bottle</td><td>Fitness</td><td>5</td><td>Mega Plaza</td><td>Chennai</td><td>5</td><td>1495.0</td><td>1</td><td>1495.0</td></tr><tr><td>2024-11-12</td><td>3</td><td>Yoga Mat</td><td>Fitness</td><td>4</td><td>Downtown Mini Store</td><td>Pune</td><td>5</td><td>2495.0</td><td>1</td><td>2495.0</td></tr><tr><td>2025-01-04</td><td>7</td><td>Smartwatch</td><td>Electronics</td><td>3</td><td>Tech World Outlet</td><td>Bangalore</td><td>5</td><td>24995.0</td><td>1</td><td>24995.0</td></tr><tr><td>2025-03-16</td><td>8</td><td>Desk Organizer</td><td>Accessories</td><td>4</td><td>Downtown Mini Store</td><td>Pune</td><td>5</td><td>1995.0</td><td>1</td><td>1995.0</td></tr><tr><td>2024-11-15</td><td>7</td><td>Smartwatch</td><td>Electronics</td><td>5</td><td>Mega Plaza</td><td>Chennai</td><td>3</td><td>14997.0</td><td>1</td><td>14997.0</td></tr><tr><td>2024-07-30</td><td>5</td><td>Notebook Set</td><td>Stationery</td><td>1</td><td>City Mall Store</td><td>Mumbai</td><td>2</td><td>298.0</td><td>1</td><td>298.0</td></tr><tr><td>2025-04-30</td><td>9</td><td>Dumbbell Set</td><td>Fitness</td><td>4</td><td>Downtown Mini Store</td><td>Pune</td><td>2</td><td>3998.0</td><td>1</td><td>3998.0</td></tr><tr><td>2024-11-29</td><td>6</td><td>Water Bottle</td><td>Fitness</td><td>2</td><td>High Street Store</td><td>Delhi</td><td>4</td><td>1196.0</td><td>1</td><td>1196.0</td></tr><tr><td>2024-09-21</td><td>6</td><td>Water Bottle</td><td>Fitness</td><td>2</td><td>High Street Store</td><td>Delhi</td><td>2</td><td>598.0</td><td>1</td><td>598.0</td></tr><tr><td>2025-06-08</td><td>7</td><td>Smartwatch</td><td>Electronics</td><td>5</td><td>Mega Plaza</td><td>Chennai</td><td>2</td><td>9998.0</td><td>1</td><td>9998.0</td></tr><tr><td>2024-11-16</td><td>9</td><td>Dumbbell Set</td><td>Fitness</td><td>3</td><td>Tech World Outlet</td><td>Bangalore</td><td>4</td><td>7996.0</td><td>1</td><td>7996.0</td></tr><tr><td>2024-10-02</td><td>1</td><td>Wireless Mouse</td><td>Electronics</td><td>3</td><td>Tech World Outlet</td><td>Bangalore</td><td>5</td><td>3999.95</td><td>1</td><td>3999.95</td></tr><tr><td>2024-10-08</td><td>1</td><td>Wireless Mouse</td><td>Electronics</td><td>3</td><td>Tech World Outlet</td><td>Bangalore</td><td>2</td><td>1599.98</td><td>1</td><td>1599.98</td></tr><tr><td>2025-05-01</td><td>2</td><td>Bluetooth Speaker</td><td>Electronics</td><td>2</td><td>High Street Store</td><td>Delhi</td><td>3</td><td>3898.4700000000003</td><td>1</td><td>3898.4700000000003</td></tr><tr><td>2024-07-14</td><td>8</td><td>Desk Organizer</td><td>Accessories</td><td>4</td><td>Downtown Mini Store</td><td>Pune</td><td>4</td><td>1596.0</td><td>1</td><td>1596.0</td></tr><tr><td>2024-10-10</td><td>8</td><td>Desk Organizer</td><td>Accessories</td><td>1</td><td>City Mall Store</td><td>Mumbai</td><td>1</td><td>399.0</td><td>1</td><td>399.0</td></tr><tr><td>2025-03-17</td><td>5</td><td>Notebook Set</td><td>Stationery</td><td>2</td><td>High Street Store</td><td>Delhi</td><td>1</td><td>149.0</td><td>1</td><td>149.0</td></tr><tr><td>2024-07-10</td><td>8</td><td>Desk Organizer</td><td>Accessories</td><td>5</td><td>Mega Plaza</td><td>Chennai</td><td>5</td><td>1995.0</td><td>1</td><td>1995.0</td></tr><tr><td>2025-03-31</td><td>8</td><td>Desk Organizer</td><td>Accessories</td><td>4</td><td>Downtown Mini Store</td><td>Pune</td><td>4</td><td>1596.0</td><td>1</td><td>1596.0</td></tr></tbody></table></div>"
      ]
     },
     "metadata": {
      "application/vnd.databricks.v1+output": {
       "addedWidgets": {},
       "aggData": [],
       "aggError": "",
       "aggOverflow": false,
       "aggSchema": [],
       "aggSeriesLimitReached": false,
       "aggType": "",
       "arguments": {},
       "columnCustomDisplayInfos": {},
       "data": [
        [
         "2024-11-02",
         8,
         "Desk Organizer",
         "Accessories",
         1,
         "City Mall Store",
         "Mumbai",
         1,
         399.0,
         1,
         399.0
        ],
        [
         "2024-08-11",
         1,
         "Wireless Mouse",
         "Electronics",
         3,
         "Tech World Outlet",
         "Bangalore",
         2,
         1599.98,
         1,
         1599.98
        ],
        [
         "2024-12-13",
         8,
         "Desk Organizer",
         "Accessories",
         4,
         "Downtown Mini Store",
         "Pune",
         5,
         1995.0,
         1,
         1995.0
        ],
        [
         "2025-05-04",
         3,
         "Yoga Mat",
         "Fitness",
         3,
         "Tech World Outlet",
         "Bangalore",
         4,
         1996.0,
         1,
         1996.0
        ],
        [
         "2025-05-26",
         5,
         "Notebook Set",
         "Stationery",
         1,
         "City Mall Store",
         "Mumbai",
         4,
         596.0,
         1,
         596.0
        ],
        [
         "2024-07-14",
         1,
         "Wireless Mouse",
         "Electronics",
         5,
         "Mega Plaza",
         "Chennai",
         1,
         799.99,
         1,
         799.99
        ],
        [
         "2024-07-17",
         1,
         "Wireless Mouse",
         "Electronics",
         4,
         "Downtown Mini Store",
         "Pune",
         5,
         3999.95,
         1,
         3999.95
        ],
        [
         "2024-09-05",
         1,
         "Wireless Mouse",
         "Electronics",
         4,
         "Downtown Mini Store",
         "Pune",
         3,
         2399.9700000000003,
         1,
         2399.9700000000003
        ],
        [
         "2025-06-03",
         9,
         "Dumbbell Set",
         "Fitness",
         4,
         "Downtown Mini Store",
         "Pune",
         2,
         3998.0,
         1,
         3998.0
        ],
        [
         "2024-08-27",
         2,
         "Bluetooth Speaker",
         "Electronics",
         2,
         "High Street Store",
         "Delhi",
         5,
         6497.45,
         1,
         6497.45
        ],
        [
         "2025-01-01",
         7,
         "Smartwatch",
         "Electronics",
         2,
         "High Street Store",
         "Delhi",
         5,
         24995.0,
         1,
         24995.0
        ],
        [
         "2025-05-19",
         6,
         "Water Bottle",
         "Fitness",
         5,
         "Mega Plaza",
         "Chennai",
         5,
         1495.0,
         1,
         1495.0
        ],
        [
         "2024-11-12",
         3,
         "Yoga Mat",
         "Fitness",
         4,
         "Downtown Mini Store",
         "Pune",
         5,
         2495.0,
         1,
         2495.0
        ],
        [
         "2025-01-04",
         7,
         "Smartwatch",
         "Electronics",
         3,
         "Tech World Outlet",
         "Bangalore",
         5,
         24995.0,
         1,
         24995.0
        ],
        [
         "2025-03-16",
         8,
         "Desk Organizer",
         "Accessories",
         4,
         "Downtown Mini Store",
         "Pune",
         5,
         1995.0,
         1,
         1995.0
        ],
        [
         "2024-11-15",
         7,
         "Smartwatch",
         "Electronics",
         5,
         "Mega Plaza",
         "Chennai",
         3,
         14997.0,
         1,
         14997.0
        ],
        [
         "2024-07-30",
         5,
         "Notebook Set",
         "Stationery",
         1,
         "City Mall Store",
         "Mumbai",
         2,
         298.0,
         1,
         298.0
        ],
        [
         "2025-04-30",
         9,
         "Dumbbell Set",
         "Fitness",
         4,
         "Downtown Mini Store",
         "Pune",
         2,
         3998.0,
         1,
         3998.0
        ],
        [
         "2024-11-29",
         6,
         "Water Bottle",
         "Fitness",
         2,
         "High Street Store",
         "Delhi",
         4,
         1196.0,
         1,
         1196.0
        ],
        [
         "2024-09-21",
         6,
         "Water Bottle",
         "Fitness",
         2,
         "High Street Store",
         "Delhi",
         2,
         598.0,
         1,
         598.0
        ],
        [
         "2025-06-08",
         7,
         "Smartwatch",
         "Electronics",
         5,
         "Mega Plaza",
         "Chennai",
         2,
         9998.0,
         1,
         9998.0
        ],
        [
         "2024-11-16",
         9,
         "Dumbbell Set",
         "Fitness",
         3,
         "Tech World Outlet",
         "Bangalore",
         4,
         7996.0,
         1,
         7996.0
        ],
        [
         "2024-10-02",
         1,
         "Wireless Mouse",
         "Electronics",
         3,
         "Tech World Outlet",
         "Bangalore",
         5,
         3999.95,
         1,
         3999.95
        ],
        [
         "2024-10-08",
         1,
         "Wireless Mouse",
         "Electronics",
         3,
         "Tech World Outlet",
         "Bangalore",
         2,
         1599.98,
         1,
         1599.98
        ],
        [
         "2025-05-01",
         2,
         "Bluetooth Speaker",
         "Electronics",
         2,
         "High Street Store",
         "Delhi",
         3,
         3898.4700000000003,
         1,
         3898.4700000000003
        ],
        [
         "2024-07-14",
         8,
         "Desk Organizer",
         "Accessories",
         4,
         "Downtown Mini Store",
         "Pune",
         4,
         1596.0,
         1,
         1596.0
        ],
        [
         "2024-10-10",
         8,
         "Desk Organizer",
         "Accessories",
         1,
         "City Mall Store",
         "Mumbai",
         1,
         399.0,
         1,
         399.0
        ],
        [
         "2025-03-17",
         5,
         "Notebook Set",
         "Stationery",
         2,
         "High Street Store",
         "Delhi",
         1,
         149.0,
         1,
         149.0
        ],
        [
         "2024-07-10",
         8,
         "Desk Organizer",
         "Accessories",
         5,
         "Mega Plaza",
         "Chennai",
         5,
         1995.0,
         1,
         1995.0
        ],
        [
         "2025-03-31",
         8,
         "Desk Organizer",
         "Accessories",
         4,
         "Downtown Mini Store",
         "Pune",
         4,
         1596.0,
         1,
         1596.0
        ]
       ],
       "datasetInfos": [],
       "dbfsResultPath": null,
       "isJsonSchema": true,
       "metadata": {},
       "overflow": false,
       "plotOptions": {
        "customPlotOptions": {},
        "displayType": "table",
        "pivotAggregation": null,
        "pivotColumns": null,
        "xColumns": null,
        "yColumns": null
       },
       "removedWidgets": [],
       "schema": [
        {
         "metadata": "{}",
         "name": "transaction_date",
         "type": "\"date\""
        },
        {
         "metadata": "{}",
         "name": "product_id",
         "type": "\"integer\""
        },
        {
         "metadata": "{}",
         "name": "product_name",
         "type": "\"string\""
        },
        {
         "metadata": "{}",
         "name": "category",
         "type": "\"string\""
        },
        {
         "metadata": "{}",
         "name": "store_id",
         "type": "\"integer\""
        },
        {
         "metadata": "{}",
         "name": "store_name",
         "type": "\"string\""
        },
        {
         "metadata": "{}",
         "name": "location",
         "type": "\"string\""
        },
        {
         "metadata": "{}",
         "name": "total_quantity_sold",
         "type": "\"long\""
        },
        {
         "metadata": "{}",
         "name": "total_sales_amount",
         "type": "\"double\""
        },
        {
         "metadata": "{}",
         "name": "number_of_transactions",
         "type": "\"long\""
        },
        {
         "metadata": "{}",
         "name": "average_transaction_value",
         "type": "\"double\""
        }
       ],
       "type": "table"
      }
     },
     "output_type": "display_data"
    }
   ],
   "source": [
    "display(gold_df)"
   ]
  },
  {
   "cell_type": "code",
   "execution_count": 0,
   "metadata": {
    "application/vnd.databricks.v1+cell": {
     "cellMetadata": {
      "byteLimit": 2048000,
      "rowLimit": 10000
     },
     "inputWidgets": {},
     "nuid": "88bd2bf5-abb1-4401-bdcb-a3989c50a1f9",
     "showTitle": false,
     "tableResultSettingsMap": {},
     "title": ""
    }
   },
   "outputs": [],
   "source": [
    "gold_path = \"/mnt/retail_project/gold/\"\n",
    "\n",
    "gold_df.write.mode(\"overwrite\").format(\"delta\").save(gold_path)"
   ]
  },
  {
   "cell_type": "code",
   "execution_count": 0,
   "metadata": {
    "application/vnd.databricks.v1+cell": {
     "cellMetadata": {
      "byteLimit": 2048000,
      "rowLimit": 10000
     },
     "inputWidgets": {},
     "nuid": "dbf1148d-5e63-44fa-9310-f39218477c56",
     "showTitle": false,
     "tableResultSettingsMap": {},
     "title": ""
    }
   },
   "outputs": [
    {
     "output_type": "execute_result",
     "data": {
      "text/plain": [
       "DataFrame[]"
      ]
     },
     "execution_count": 35,
     "metadata": {},
     "output_type": "execute_result"
    }
   ],
   "source": [
    "spark.sql(\"\"\"\n",
    "CREATE TABLE retail_gold_sales_summary\n",
    "USING DELTA\n",
    "LOCATION '/mnt/retail_project/gold/' \"\"\")"
   ]
  },
  {
   "cell_type": "code",
   "execution_count": 0,
   "metadata": {
    "application/vnd.databricks.v1+cell": {
     "cellMetadata": {
      "byteLimit": 2048000,
      "implicitDf": true,
      "rowLimit": 10000
     },
     "inputWidgets": {},
     "nuid": "1a03fc7b-8051-48dd-a479-199b24cd3c41",
     "showTitle": false,
     "tableResultSettingsMap": {},
     "title": ""
    }
   },
   "outputs": [
    {
     "output_type": "display_data",
     "data": {
      "text/html": [
       "<style scoped>\n",
       "  .table-result-container {\n",
       "    max-height: 300px;\n",
       "    overflow: auto;\n",
       "  }\n",
       "  table, th, td {\n",
       "    border: 1px solid black;\n",
       "    border-collapse: collapse;\n",
       "  }\n",
       "  th, td {\n",
       "    padding: 5px;\n",
       "  }\n",
       "  th {\n",
       "    text-align: left;\n",
       "  }\n",
       "</style><div class='table-result-container'><table class='table-result'><thead style='background-color: white'><tr><th>transaction_date</th><th>product_id</th><th>product_name</th><th>category</th><th>store_id</th><th>store_name</th><th>location</th><th>total_quantity_sold</th><th>total_sales_amount</th><th>number_of_transactions</th><th>average_transaction_value</th></tr></thead><tbody><tr><td>2024-11-02</td><td>8</td><td>Desk Organizer</td><td>Accessories</td><td>1</td><td>City Mall Store</td><td>Mumbai</td><td>1</td><td>399.0</td><td>1</td><td>399.0</td></tr><tr><td>2024-08-11</td><td>1</td><td>Wireless Mouse</td><td>Electronics</td><td>3</td><td>Tech World Outlet</td><td>Bangalore</td><td>2</td><td>1599.98</td><td>1</td><td>1599.98</td></tr><tr><td>2024-12-13</td><td>8</td><td>Desk Organizer</td><td>Accessories</td><td>4</td><td>Downtown Mini Store</td><td>Pune</td><td>5</td><td>1995.0</td><td>1</td><td>1995.0</td></tr><tr><td>2025-05-04</td><td>3</td><td>Yoga Mat</td><td>Fitness</td><td>3</td><td>Tech World Outlet</td><td>Bangalore</td><td>4</td><td>1996.0</td><td>1</td><td>1996.0</td></tr><tr><td>2025-05-26</td><td>5</td><td>Notebook Set</td><td>Stationery</td><td>1</td><td>City Mall Store</td><td>Mumbai</td><td>4</td><td>596.0</td><td>1</td><td>596.0</td></tr><tr><td>2024-07-14</td><td>1</td><td>Wireless Mouse</td><td>Electronics</td><td>5</td><td>Mega Plaza</td><td>Chennai</td><td>1</td><td>799.99</td><td>1</td><td>799.99</td></tr><tr><td>2024-07-17</td><td>1</td><td>Wireless Mouse</td><td>Electronics</td><td>4</td><td>Downtown Mini Store</td><td>Pune</td><td>5</td><td>3999.95</td><td>1</td><td>3999.95</td></tr><tr><td>2024-09-05</td><td>1</td><td>Wireless Mouse</td><td>Electronics</td><td>4</td><td>Downtown Mini Store</td><td>Pune</td><td>3</td><td>2399.9700000000003</td><td>1</td><td>2399.9700000000003</td></tr><tr><td>2025-06-03</td><td>9</td><td>Dumbbell Set</td><td>Fitness</td><td>4</td><td>Downtown Mini Store</td><td>Pune</td><td>2</td><td>3998.0</td><td>1</td><td>3998.0</td></tr><tr><td>2024-08-27</td><td>2</td><td>Bluetooth Speaker</td><td>Electronics</td><td>2</td><td>High Street Store</td><td>Delhi</td><td>5</td><td>6497.45</td><td>1</td><td>6497.45</td></tr><tr><td>2025-01-01</td><td>7</td><td>Smartwatch</td><td>Electronics</td><td>2</td><td>High Street Store</td><td>Delhi</td><td>5</td><td>24995.0</td><td>1</td><td>24995.0</td></tr><tr><td>2025-05-19</td><td>6</td><td>Water Bottle</td><td>Fitness</td><td>5</td><td>Mega Plaza</td><td>Chennai</td><td>5</td><td>1495.0</td><td>1</td><td>1495.0</td></tr><tr><td>2024-11-12</td><td>3</td><td>Yoga Mat</td><td>Fitness</td><td>4</td><td>Downtown Mini Store</td><td>Pune</td><td>5</td><td>2495.0</td><td>1</td><td>2495.0</td></tr><tr><td>2025-01-04</td><td>7</td><td>Smartwatch</td><td>Electronics</td><td>3</td><td>Tech World Outlet</td><td>Bangalore</td><td>5</td><td>24995.0</td><td>1</td><td>24995.0</td></tr><tr><td>2025-03-16</td><td>8</td><td>Desk Organizer</td><td>Accessories</td><td>4</td><td>Downtown Mini Store</td><td>Pune</td><td>5</td><td>1995.0</td><td>1</td><td>1995.0</td></tr><tr><td>2024-11-15</td><td>7</td><td>Smartwatch</td><td>Electronics</td><td>5</td><td>Mega Plaza</td><td>Chennai</td><td>3</td><td>14997.0</td><td>1</td><td>14997.0</td></tr><tr><td>2024-07-30</td><td>5</td><td>Notebook Set</td><td>Stationery</td><td>1</td><td>City Mall Store</td><td>Mumbai</td><td>2</td><td>298.0</td><td>1</td><td>298.0</td></tr><tr><td>2025-04-30</td><td>9</td><td>Dumbbell Set</td><td>Fitness</td><td>4</td><td>Downtown Mini Store</td><td>Pune</td><td>2</td><td>3998.0</td><td>1</td><td>3998.0</td></tr><tr><td>2024-11-29</td><td>6</td><td>Water Bottle</td><td>Fitness</td><td>2</td><td>High Street Store</td><td>Delhi</td><td>4</td><td>1196.0</td><td>1</td><td>1196.0</td></tr><tr><td>2024-09-21</td><td>6</td><td>Water Bottle</td><td>Fitness</td><td>2</td><td>High Street Store</td><td>Delhi</td><td>2</td><td>598.0</td><td>1</td><td>598.0</td></tr><tr><td>2025-06-08</td><td>7</td><td>Smartwatch</td><td>Electronics</td><td>5</td><td>Mega Plaza</td><td>Chennai</td><td>2</td><td>9998.0</td><td>1</td><td>9998.0</td></tr><tr><td>2024-11-16</td><td>9</td><td>Dumbbell Set</td><td>Fitness</td><td>3</td><td>Tech World Outlet</td><td>Bangalore</td><td>4</td><td>7996.0</td><td>1</td><td>7996.0</td></tr><tr><td>2024-10-02</td><td>1</td><td>Wireless Mouse</td><td>Electronics</td><td>3</td><td>Tech World Outlet</td><td>Bangalore</td><td>5</td><td>3999.95</td><td>1</td><td>3999.95</td></tr><tr><td>2024-10-08</td><td>1</td><td>Wireless Mouse</td><td>Electronics</td><td>3</td><td>Tech World Outlet</td><td>Bangalore</td><td>2</td><td>1599.98</td><td>1</td><td>1599.98</td></tr><tr><td>2025-05-01</td><td>2</td><td>Bluetooth Speaker</td><td>Electronics</td><td>2</td><td>High Street Store</td><td>Delhi</td><td>3</td><td>3898.4700000000003</td><td>1</td><td>3898.4700000000003</td></tr><tr><td>2024-07-14</td><td>8</td><td>Desk Organizer</td><td>Accessories</td><td>4</td><td>Downtown Mini Store</td><td>Pune</td><td>4</td><td>1596.0</td><td>1</td><td>1596.0</td></tr><tr><td>2024-10-10</td><td>8</td><td>Desk Organizer</td><td>Accessories</td><td>1</td><td>City Mall Store</td><td>Mumbai</td><td>1</td><td>399.0</td><td>1</td><td>399.0</td></tr><tr><td>2025-03-17</td><td>5</td><td>Notebook Set</td><td>Stationery</td><td>2</td><td>High Street Store</td><td>Delhi</td><td>1</td><td>149.0</td><td>1</td><td>149.0</td></tr><tr><td>2024-07-10</td><td>8</td><td>Desk Organizer</td><td>Accessories</td><td>5</td><td>Mega Plaza</td><td>Chennai</td><td>5</td><td>1995.0</td><td>1</td><td>1995.0</td></tr><tr><td>2025-03-31</td><td>8</td><td>Desk Organizer</td><td>Accessories</td><td>4</td><td>Downtown Mini Store</td><td>Pune</td><td>4</td><td>1596.0</td><td>1</td><td>1596.0</td></tr></tbody></table></div>"
      ]
     },
     "metadata": {
      "application/vnd.databricks.v1+output": {
       "addedWidgets": {},
       "aggData": [],
       "aggError": "",
       "aggOverflow": false,
       "aggSchema": [],
       "aggSeriesLimitReached": false,
       "aggType": "",
       "arguments": {},
       "columnCustomDisplayInfos": {},
       "data": [
        [
         "2024-11-02",
         8,
         "Desk Organizer",
         "Accessories",
         1,
         "City Mall Store",
         "Mumbai",
         1,
         399.0,
         1,
         399.0
        ],
        [
         "2024-08-11",
         1,
         "Wireless Mouse",
         "Electronics",
         3,
         "Tech World Outlet",
         "Bangalore",
         2,
         1599.98,
         1,
         1599.98
        ],
        [
         "2024-12-13",
         8,
         "Desk Organizer",
         "Accessories",
         4,
         "Downtown Mini Store",
         "Pune",
         5,
         1995.0,
         1,
         1995.0
        ],
        [
         "2025-05-04",
         3,
         "Yoga Mat",
         "Fitness",
         3,
         "Tech World Outlet",
         "Bangalore",
         4,
         1996.0,
         1,
         1996.0
        ],
        [
         "2025-05-26",
         5,
         "Notebook Set",
         "Stationery",
         1,
         "City Mall Store",
         "Mumbai",
         4,
         596.0,
         1,
         596.0
        ],
        [
         "2024-07-14",
         1,
         "Wireless Mouse",
         "Electronics",
         5,
         "Mega Plaza",
         "Chennai",
         1,
         799.99,
         1,
         799.99
        ],
        [
         "2024-07-17",
         1,
         "Wireless Mouse",
         "Electronics",
         4,
         "Downtown Mini Store",
         "Pune",
         5,
         3999.95,
         1,
         3999.95
        ],
        [
         "2024-09-05",
         1,
         "Wireless Mouse",
         "Electronics",
         4,
         "Downtown Mini Store",
         "Pune",
         3,
         2399.9700000000003,
         1,
         2399.9700000000003
        ],
        [
         "2025-06-03",
         9,
         "Dumbbell Set",
         "Fitness",
         4,
         "Downtown Mini Store",
         "Pune",
         2,
         3998.0,
         1,
         3998.0
        ],
        [
         "2024-08-27",
         2,
         "Bluetooth Speaker",
         "Electronics",
         2,
         "High Street Store",
         "Delhi",
         5,
         6497.45,
         1,
         6497.45
        ],
        [
         "2025-01-01",
         7,
         "Smartwatch",
         "Electronics",
         2,
         "High Street Store",
         "Delhi",
         5,
         24995.0,
         1,
         24995.0
        ],
        [
         "2025-05-19",
         6,
         "Water Bottle",
         "Fitness",
         5,
         "Mega Plaza",
         "Chennai",
         5,
         1495.0,
         1,
         1495.0
        ],
        [
         "2024-11-12",
         3,
         "Yoga Mat",
         "Fitness",
         4,
         "Downtown Mini Store",
         "Pune",
         5,
         2495.0,
         1,
         2495.0
        ],
        [
         "2025-01-04",
         7,
         "Smartwatch",
         "Electronics",
         3,
         "Tech World Outlet",
         "Bangalore",
         5,
         24995.0,
         1,
         24995.0
        ],
        [
         "2025-03-16",
         8,
         "Desk Organizer",
         "Accessories",
         4,
         "Downtown Mini Store",
         "Pune",
         5,
         1995.0,
         1,
         1995.0
        ],
        [
         "2024-11-15",
         7,
         "Smartwatch",
         "Electronics",
         5,
         "Mega Plaza",
         "Chennai",
         3,
         14997.0,
         1,
         14997.0
        ],
        [
         "2024-07-30",
         5,
         "Notebook Set",
         "Stationery",
         1,
         "City Mall Store",
         "Mumbai",
         2,
         298.0,
         1,
         298.0
        ],
        [
         "2025-04-30",
         9,
         "Dumbbell Set",
         "Fitness",
         4,
         "Downtown Mini Store",
         "Pune",
         2,
         3998.0,
         1,
         3998.0
        ],
        [
         "2024-11-29",
         6,
         "Water Bottle",
         "Fitness",
         2,
         "High Street Store",
         "Delhi",
         4,
         1196.0,
         1,
         1196.0
        ],
        [
         "2024-09-21",
         6,
         "Water Bottle",
         "Fitness",
         2,
         "High Street Store",
         "Delhi",
         2,
         598.0,
         1,
         598.0
        ],
        [
         "2025-06-08",
         7,
         "Smartwatch",
         "Electronics",
         5,
         "Mega Plaza",
         "Chennai",
         2,
         9998.0,
         1,
         9998.0
        ],
        [
         "2024-11-16",
         9,
         "Dumbbell Set",
         "Fitness",
         3,
         "Tech World Outlet",
         "Bangalore",
         4,
         7996.0,
         1,
         7996.0
        ],
        [
         "2024-10-02",
         1,
         "Wireless Mouse",
         "Electronics",
         3,
         "Tech World Outlet",
         "Bangalore",
         5,
         3999.95,
         1,
         3999.95
        ],
        [
         "2024-10-08",
         1,
         "Wireless Mouse",
         "Electronics",
         3,
         "Tech World Outlet",
         "Bangalore",
         2,
         1599.98,
         1,
         1599.98
        ],
        [
         "2025-05-01",
         2,
         "Bluetooth Speaker",
         "Electronics",
         2,
         "High Street Store",
         "Delhi",
         3,
         3898.4700000000003,
         1,
         3898.4700000000003
        ],
        [
         "2024-07-14",
         8,
         "Desk Organizer",
         "Accessories",
         4,
         "Downtown Mini Store",
         "Pune",
         4,
         1596.0,
         1,
         1596.0
        ],
        [
         "2024-10-10",
         8,
         "Desk Organizer",
         "Accessories",
         1,
         "City Mall Store",
         "Mumbai",
         1,
         399.0,
         1,
         399.0
        ],
        [
         "2025-03-17",
         5,
         "Notebook Set",
         "Stationery",
         2,
         "High Street Store",
         "Delhi",
         1,
         149.0,
         1,
         149.0
        ],
        [
         "2024-07-10",
         8,
         "Desk Organizer",
         "Accessories",
         5,
         "Mega Plaza",
         "Chennai",
         5,
         1995.0,
         1,
         1995.0
        ],
        [
         "2025-03-31",
         8,
         "Desk Organizer",
         "Accessories",
         4,
         "Downtown Mini Store",
         "Pune",
         4,
         1596.0,
         1,
         1596.0
        ]
       ],
       "datasetInfos": [
        {
         "name": "_sqldf",
         "schema": {
          "fields": [
           {
            "metadata": {},
            "name": "transaction_date",
            "nullable": true,
            "type": "date"
           },
           {
            "metadata": {},
            "name": "product_id",
            "nullable": true,
            "type": "integer"
           },
           {
            "metadata": {},
            "name": "product_name",
            "nullable": true,
            "type": "string"
           },
           {
            "metadata": {},
            "name": "category",
            "nullable": true,
            "type": "string"
           },
           {
            "metadata": {},
            "name": "store_id",
            "nullable": true,
            "type": "integer"
           },
           {
            "metadata": {},
            "name": "store_name",
            "nullable": true,
            "type": "string"
           },
           {
            "metadata": {},
            "name": "location",
            "nullable": true,
            "type": "string"
           },
           {
            "metadata": {},
            "name": "total_quantity_sold",
            "nullable": true,
            "type": "long"
           },
           {
            "metadata": {},
            "name": "total_sales_amount",
            "nullable": true,
            "type": "double"
           },
           {
            "metadata": {},
            "name": "number_of_transactions",
            "nullable": true,
            "type": "long"
           },
           {
            "metadata": {},
            "name": "average_transaction_value",
            "nullable": true,
            "type": "double"
           }
          ],
          "type": "struct"
         },
         "tableIdentifier": null,
         "typeStr": "pyspark.sql.dataframe.DataFrame"
        }
       ],
       "dbfsResultPath": null,
       "isJsonSchema": true,
       "metadata": {
        "createTempViewForImplicitDf": true,
        "dataframeName": "_sqldf",
        "executionCount": 38
       },
       "overflow": false,
       "plotOptions": {
        "customPlotOptions": {},
        "displayType": "table",
        "pivotAggregation": null,
        "pivotColumns": null,
        "xColumns": null,
        "yColumns": null
       },
       "removedWidgets": [],
       "schema": [
        {
         "metadata": "{}",
         "name": "transaction_date",
         "type": "\"date\""
        },
        {
         "metadata": "{}",
         "name": "product_id",
         "type": "\"integer\""
        },
        {
         "metadata": "{}",
         "name": "product_name",
         "type": "\"string\""
        },
        {
         "metadata": "{}",
         "name": "category",
         "type": "\"string\""
        },
        {
         "metadata": "{}",
         "name": "store_id",
         "type": "\"integer\""
        },
        {
         "metadata": "{}",
         "name": "store_name",
         "type": "\"string\""
        },
        {
         "metadata": "{}",
         "name": "location",
         "type": "\"string\""
        },
        {
         "metadata": "{}",
         "name": "total_quantity_sold",
         "type": "\"long\""
        },
        {
         "metadata": "{}",
         "name": "total_sales_amount",
         "type": "\"double\""
        },
        {
         "metadata": "{}",
         "name": "number_of_transactions",
         "type": "\"long\""
        },
        {
         "metadata": "{}",
         "name": "average_transaction_value",
         "type": "\"double\""
        }
       ],
       "type": "table"
      }
     },
     "output_type": "display_data"
    }
   ],
   "source": [
    "%sql select * from retail_gold_sales_summary"
   ]
  },
  {
   "cell_type": "code",
   "execution_count": 0,
   "metadata": {
    "application/vnd.databricks.v1+cell": {
     "cellMetadata": {},
     "inputWidgets": {},
     "nuid": "f271c669-2fca-4915-8c0c-91ff1d8fe6d9",
     "showTitle": false,
     "tableResultSettingsMap": {},
     "title": ""
    }
   },
   "outputs": [],
   "source": []
  }
 ],
 "metadata": {
  "application/vnd.databricks.v1+notebook": {
   "computePreferences": null,
   "dashboards": [],
   "environmentMetadata": {
    "base_environment": "",
    "environment_version": "4"
   },
   "inputWidgetPreferences": null,
   "language": "python",
   "notebookMetadata": {
    "mostRecentlyExecutedCommandWithImplicitDF": {
     "commandId": 8633676589316155,
     "dataframes": [
      "_sqldf"
     ]
    },
    "pythonIndentUnit": 4
   },
   "notebookName": "Retail Project",
   "widgets": {}
  },
  "language_info": {
   "name": "python"
  }
 },
 "nbformat": 4,
 "nbformat_minor": 0
}