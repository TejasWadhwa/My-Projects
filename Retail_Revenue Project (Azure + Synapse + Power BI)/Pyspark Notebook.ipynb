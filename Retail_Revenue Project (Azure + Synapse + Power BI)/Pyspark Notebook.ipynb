{
  "cells": [
    {
      "cell_type": "code",
      "source": [
        "# Bronze Layer - Ingest JSON from ADLS\n",
        "\n",
        "df_bronze = spark.read.parquet(\"abfss://retailrevenue@tjnewstorage71.dfs.core.windows.net/bronze/manish040596/azure-data-engineer-projects/refs/heads/main/retail_transactions_bronze.parquet\")\n",
        "df_bronze.show()\n",
        "\n"
      ],
      "outputs": [
        {
          "output_type": "display_data",
          "data": {
            "application/vnd.livy.statement-meta+json": {
              "spark_pool": "tjsparkpool71",
              "statement_id": 6,
              "statement_ids": [
                6
              ],
              "state": "finished",
              "livy_statement_state": "available",
              "spark_jobs": null,
              "session_id": "0",
              "normalized_state": "finished",
              "queued_time": "2025-10-29T12:03:00.1386608Z",
              "session_start_time": null,
              "execution_start_time": "2025-10-29T12:03:00.1406608Z",
              "execution_finish_time": "2025-10-29T12:03:11.1682554Z",
              "parent_msg_id": "f157f0d0-6fba-470b-b86d-2824a3ab7793"
            },
            "text/plain": "StatementMeta(tjsparkpool71, 0, 6, Finished, Available, Finished)"
          },
          "metadata": {}
        },
        {
          "output_type": "stream",
          "name": "stdout",
          "text": [
            "+--------+----------+-----------+--------------------+--------------+----------+----------------+-------+---------+---------+\n|event_id|event_type|customer_id|     event_timestamp|payment_method|product_id|product_category| amount| location|   status|\n+--------+----------+-----------+--------------------+--------------+----------+----------------+-------+---------+---------+\n|   E1000|    cancel|        C11|2024-05-04T15:00:00Z|   Credit Card|     P1016|     Electronics|    0.0|Bangalore|Cancelled|\n|   E1001|    cancel|         C1|2024-05-20T17:00:00Z|   Credit Card|     P1018|       Groceries|    0.0|  Kolkata|Cancelled|\n|   E1002|    cancel|        C10|2024-05-24T20:00:00Z|          Cash|     P1002|     Electronics|    0.0|   Mumbai|Cancelled|\n|   E1003|    refund|        C15|2024-05-23T02:00:00Z|   Credit Card|     P1019|     Electronics|-139.21|  Chennai| Refunded|\n|   E1004|    refund|        C14|2024-05-28T00:00:00Z|           UPI|     P1018|     Electronics| -397.0|  Kolkata| Refunded|\n|   E1005|  purchase|        C16|2024-05-27T07:00:00Z|          Cash|     P1003|     Electronics| 249.18|  Kolkata|Completed|\n|   E1006|    refund|        C18|2024-05-04T16:00:00Z|           UPI|     P1016|           Books|-464.49|   Mumbai| Refunded|\n|   E1007|  purchase|           |2024-05-28T00:00:00Z|   Net Banking|     P1003|      Home Decor| 379.66|   Mumbai|Completed|\n|   E1008|    refund|        C18|2024-05-16T13:00:00Z|   Credit Card|     P1007|        Clothing|-496.75|    Delhi| Refunded|\n|   E1009|    cancel|         C1|2024-05-25T10:00:00Z|   Credit Card|     P1012|        Clothing|    0.0|  Kolkata|Cancelled|\n|   E1010|    cancel|        C18|2024-05-15T03:00:00Z|   Credit Card|     P1014|      Home Decor|    0.0|    Delhi|Cancelled|\n|   E1011|  purchase|        C14|2024-05-24T02:00:00Z|    Debit Card|     P1002|        Clothing| 162.41|  Kolkata|Completed|\n|   E1012|    refund|        C18|2024-05-06T01:00:00Z|    Debit Card|     P1003|      Home Decor|-160.99|Bangalore| Refunded|\n|   E1013|    refund|        C12|2024-05-24T11:00:00Z|    Debit Card|     P1010|       Groceries|-242.54|  Chennai| Refunded|\n|   E1014|    cancel|         C9|2024-05-14T14:00:00Z|   Credit Card|     P1019|        Clothing|    0.0|   Mumbai|Cancelled|\n|   E1015|    refund|         C6|2024-05-31T05:00:00Z|          Cash|     P1002|        Clothing|-354.21|  Kolkata| Refunded|\n|   E1016|  purchase|         C6|2024-05-21T15:00:00Z|   Net Banking|     P1007|      Home Decor| 164.06|Bangalore|Completed|\n|   E1017|    cancel|        C10|2024-05-07T13:00:00Z|    Debit Card|     P1003|      Home Decor|    0.0|Bangalore|Cancelled|\n|   E1018|    cancel|         C8|2024-05-06T23:00:00Z|          Cash|     P1005|        Clothing|    0.0|    Delhi|Cancelled|\n|   E1019|    refund|        C17|2024-05-14T00:00:00Z|   Net Banking|     P1002|           Books| -73.87|    Delhi| Refunded|\n+--------+----------+-----------+--------------------+--------------+----------+----------------+-------+---------+---------+\nonly showing top 20 rows\n\n"
          ]
        }
      ],
      "execution_count": 5,
      "metadata": {}
    },
    {
      "cell_type": "code",
      "source": [
        "# Silver Layer - Filter purchase & clean data\n",
        "\n",
        "from pyspark.sql.functions import col, to_date, lower\n",
        "\n",
        "df_silver = (\n",
        "    df_bronze\n",
        "    .filter(col(\"event_type\") == \"purchase\")\n",
        "    .dropna(subset=[\"customer_id\", \"amount\"])\n",
        "    .withColumn(\"event_date\", to_date(col(\"event_timestamp\")))\n",
        "    .withColumn(\"payment_method\", lower(col(\"payment_method\")))\n",
        "    .withColumn(\"amount\", col(\"amount\").cast(\"float\"))\n",
        "    .select(\n",
        "        \"event_id\", \"customer_id\", \"event_date\", \"product_id\",\n",
        "        \"product_category\", \"payment_method\", \"amount\", \"location\"\n",
        "    )\n",
        ")\n",
        "df_silver.write.mode(\"overwrite\").parquet(\"abfss://retailrevenue@tjnewstorage71.dfs.core.windows.net/silver/\")"
      ],
      "outputs": [],
      "execution_count": null,
      "metadata": {
        "jupyter": {
          "source_hidden": false,
          "outputs_hidden": false
        },
        "nteract": {
          "transient": {
            "deleting": false
          }
        }
      }
    },
    {
      "cell_type": "code",
      "source": [
        "# Gold Layer - Aggregates\n",
        "\n",
        "from pyspark.sql.functions import sum, count, col\n",
        "\n",
        "df_silver = spark.read.parquet(\"abfss://retailrevenue@tjnewstorage71.dfs.core.windows.net/silver/\")\n",
        "\n",
        "df_silver.show()\n"
      ],
      "outputs": [
        {
          "output_type": "display_data",
          "data": {
            "application/vnd.livy.statement-meta+json": {
              "spark_pool": "tjsparkpool71",
              "statement_id": 8,
              "statement_ids": [
                8
              ],
              "state": "finished",
              "livy_statement_state": "available",
              "spark_jobs": null,
              "session_id": "0",
              "normalized_state": "finished",
              "queued_time": "2025-10-29T12:30:57.0197889Z",
              "session_start_time": null,
              "execution_start_time": "2025-10-29T12:30:57.022065Z",
              "execution_finish_time": "2025-10-29T12:30:59.0898149Z",
              "parent_msg_id": "dcddc046-7fbd-4773-a152-469ad6aabb1f"
            },
            "text/plain": "StatementMeta(tjsparkpool71, 0, 8, Finished, Available, Finished)"
          },
          "metadata": {}
        },
        {
          "output_type": "stream",
          "name": "stdout",
          "text": [
            "+--------+-----------+----------+----------+----------------+--------------+------+---------+\n|event_id|customer_id|event_date|product_id|product_category|payment_method|amount| location|\n+--------+-----------+----------+----------+----------------+--------------+------+---------+\n|   E1005|        C16|2024-05-27|     P1003|     Electronics|          cash|249.18|  Kolkata|\n|   E1007|           |2024-05-28|     P1003|      Home Decor|   net banking|379.66|   Mumbai|\n|   E1011|        C14|2024-05-24|     P1002|        Clothing|    debit card|162.41|  Kolkata|\n|   E1016|         C6|2024-05-21|     P1007|      Home Decor|   net banking|164.06|Bangalore|\n|   E1020|        C18|2024-05-06|     P1006|     Electronics|          cash|213.54|  Chennai|\n|   E1021|         C9|2024-05-23|     P1017|           Books|   net banking|311.96|  Kolkata|\n|   E1023|         C3|2024-05-25|     P1007|      Home Decor|          cash|130.08|    Delhi|\n|   E1026|         C7|2024-05-24|     P1010|       Groceries|           upi|243.01|  Kolkata|\n|   E1034|        C13|2024-05-21|     P1006|       Groceries|   net banking|405.46|  Chennai|\n|   E1040|         C8|2024-05-31|     P1016|           Books|          cash|480.96|Bangalore|\n|   E1047|         C2|2024-05-23|     P1020|       Groceries|   credit card| 116.0|Bangalore|\n|   E1049|        C16|2024-05-10|     P1019|       Groceries|   credit card|450.56|  Kolkata|\n|   E1050|        C12|2024-05-24|     P1003|     Electronics|   credit card|110.07|  Chennai|\n|   E1053|        C10|2024-05-17|     P1009|        Clothing|    debit card|350.22|    Delhi|\n|   E1055|         C6|2024-05-18|     P1002|       Groceries|   credit card|272.01|    Delhi|\n|   E1056|         C3|2024-05-24|     P1009|       Groceries|    debit card|292.75|  Kolkata|\n|   E1057|           |2024-05-17|     P1006|     Electronics|    debit card|209.07|  Kolkata|\n|   E1058|           |2024-05-29|     P1002|      Home Decor|   net banking|473.89|Bangalore|\n|   E1059|        C14|2024-05-16|     P1018|       Groceries|          cash|166.18|  Chennai|\n|   E1060|         C6|2024-05-07|     P1008|     Electronics|           upi|358.15|  Kolkata|\n+--------+-----------+----------+----------+----------------+--------------+------+---------+\nonly showing top 20 rows\n\n"
          ]
        }
      ],
      "execution_count": 7,
      "metadata": {}
    },
    {
      "cell_type": "code",
      "source": [
        "df_daily_revenue = (\n",
        "    df_silver.groupBy(\"event_date\")\n",
        "    .agg(sum(\"amount\").alias(\"daily_revenue\"), count(\"*\").alias(\"total_purchases\"))\n",
        ")\n",
        "\n",
        "df_top_categories = (\n",
        "    df_silver.groupBy(\"product_category\")\n",
        "    .agg(sum(\"amount\").alias(\"Total Sales\"))\n",
        "    .orderBy(col(\"Total Sales\").desc())\n",
        ")\n",
        "\n",
        "\n",
        "df_daily_revenue.write.mode(\"overwrite\").parquet(\"abfss://retailrevenue@tjnewstorage71.dfs.core.windows.net/gold/daily_revenue\")\n",
        "df_top_categories.write.mode(\"overwrite\").parquet(\"abfss://retailrevenue@tjnewstorage71.dfs.core.windows.net/gold/top_categories\")"
      ],
      "outputs": [
        {
          "output_type": "display_data",
          "data": {
            "application/vnd.livy.statement-meta+json": {
              "spark_pool": "tjsparkpool71",
              "statement_id": 10,
              "statement_ids": [
                10
              ],
              "state": "finished",
              "livy_statement_state": "available",
              "spark_jobs": null,
              "session_id": "0",
              "normalized_state": "finished",
              "queued_time": "2025-10-29T12:40:38.2843749Z",
              "session_start_time": null,
              "execution_start_time": "2025-10-29T12:40:38.2879042Z",
              "execution_finish_time": "2025-10-29T12:40:47.3094203Z",
              "parent_msg_id": "f102a4cb-6dc4-44a7-ac9f-abfd523b8ef0"
            },
            "text/plain": "StatementMeta(tjsparkpool71, 0, 10, Finished, Available, Finished)"
          },
          "metadata": {}
        }
      ],
      "execution_count": 9,
      "metadata": {}
    },
    {
      "cell_type": "code",
      "source": [
        "df_daily_revenue.show()"
      ],
      "outputs": [
        {
          "output_type": "display_data",
          "data": {
            "application/vnd.livy.statement-meta+json": {
              "spark_pool": "tjsparkpool71",
              "statement_id": 11,
              "statement_ids": [
                11
              ],
              "state": "finished",
              "livy_statement_state": "available",
              "spark_jobs": null,
              "session_id": "0",
              "normalized_state": "finished",
              "queued_time": "2025-10-29T12:41:34.3867188Z",
              "session_start_time": null,
              "execution_start_time": "2025-10-29T12:41:34.3897504Z",
              "execution_finish_time": "2025-10-29T12:41:35.6511045Z",
              "parent_msg_id": "43ca8801-991c-4bb8-ba86-c11c3f842d9d"
            },
            "text/plain": "StatementMeta(tjsparkpool71, 0, 11, Finished, Available, Finished)"
          },
          "metadata": {}
        },
        {
          "output_type": "stream",
          "name": "stdout",
          "text": [
            "+----------+------------------+---------------+\n|event_date|     daily_revenue|total_purchases|\n+----------+------------------+---------------+\n|2024-05-30|            242.75|              1|\n|2024-05-25| 130.0800018310547|              1|\n|2024-05-19| 450.4300079345703|              2|\n|2024-05-05|197.07000732421875|              1|\n|2024-05-29| 779.0400085449219|              2|\n|2024-05-23| 427.9599914550781|              2|\n|2024-05-21|1066.2099914550781|              3|\n|2024-05-15| 391.1600036621094|              1|\n|2024-05-10| 811.1199951171875|              2|\n|2024-05-09| 412.4599914550781|              1|\n|2024-05-31| 480.9599914550781|              1|\n|2024-05-16| 1078.739990234375|              4|\n|2024-05-20| 298.6199951171875|              1|\n|2024-05-26| 740.5499954223633|              3|\n|2024-05-17| 559.2900085449219|              2|\n|2024-05-24| 808.2399978637695|              4|\n|2024-05-04|  320.260009765625|              1|\n|2024-05-27| 322.5899963378906|              2|\n|2024-05-28| 379.6600036621094|              1|\n|2024-05-03| 497.8800048828125|              1|\n+----------+------------------+---------------+\nonly showing top 20 rows\n\n"
          ]
        }
      ],
      "execution_count": 10,
      "metadata": {}
    },
    {
      "cell_type": "code",
      "source": [
        "df_top_categories.show()"
      ],
      "outputs": [
        {
          "output_type": "display_data",
          "data": {
            "application/vnd.livy.statement-meta+json": {
              "spark_pool": "tjsparkpool71",
              "statement_id": 12,
              "statement_ids": [
                12
              ],
              "state": "finished",
              "livy_statement_state": "available",
              "spark_jobs": null,
              "session_id": "0",
              "normalized_state": "finished",
              "queued_time": "2025-10-29T12:41:55.7402065Z",
              "session_start_time": null,
              "execution_start_time": "2025-10-29T12:41:55.742228Z",
              "execution_finish_time": "2025-10-29T12:41:57.0093345Z",
              "parent_msg_id": "90e01c30-70cb-49d4-b820-5531379013cb"
            },
            "text/plain": "StatementMeta(tjsparkpool71, 0, 12, Finished, Available, Finished)"
          },
          "metadata": {}
        },
        {
          "output_type": "stream",
          "name": "stdout",
          "text": [
            "+----------------+------------------+\n|product_category|       Total Sales|\n+----------------+------------------+\n|     Electronics|3116.0300064086914|\n|       Groceries| 3107.269989013672|\n|           Books|2129.0799865722656|\n|      Home Decor|1949.0900192260742|\n|        Clothing|1617.3899841308594|\n+----------------+------------------+\n\n"
          ]
        }
      ],
      "execution_count": 11,
      "metadata": {}
    },
    {
      "cell_type": "code",
      "source": [],
      "outputs": [],
      "execution_count": null,
      "metadata": {}
    }
  ],
  "metadata": {
    "language_info": {
      "name": "sql"
    },
    "kernelspec": {
      "name": "synapse_pyspark",
      "language": "Python",
      "display_name": "Synapse PySpark"
    },
    "kernel_info": {
      "name": "synapse_pyspark"
    },
    "save_output": true,
    "synapse_widget": {
      "version": "0.1",
      "state": {}
    }
  },
  "nbformat": 4,
  "nbformat_minor": 2
}